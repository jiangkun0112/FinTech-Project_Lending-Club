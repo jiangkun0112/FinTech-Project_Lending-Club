{
 "cells": [
  {
   "cell_type": "markdown",
   "metadata": {},
   "source": [
    "# INTELLIGENT INVESTMENT CONSULTANT FOR LENDING CLUB</p>\n",
    "### Author: Kun Jiang \n",
    "### Email: kunjiang0112@gmail.com"
   ]
  },
  {
   "cell_type": "markdown",
   "metadata": {},
   "source": [
    "## TABLE OF CONTENTS\n",
    "\n",
    "1. [Introduction](#INTRODUCTION)\n",
    "2. [Project Summary](#PROJECT-SUMMARY)\n",
    "3. [Data Acquisition](#Data-Acquisition)\n",
    "4. [Exploratory Analysis](#Exploratory-Analysis)\n",
    " - [Feature Exploration](#Feature-Exploration)\n",
    " - [Data Exploration](#Data-Exploration)\n",
    " - [Exploratory Visualization](#Exploratory-Visualization)\n",
    "5. [Feature Engineering](#Feature-Engineering)\n",
    " - [Categorical Feature Treatment](#Categorical-Feature-Treatment)\n",
    " - [Feature Responses Visualization](#Feature-Responses-Visualization)\n",
    "6. [XGBoost Model Buidling](#XGBoost-Model-Building)\n",
    " - [Train/Test Splitting](#Train/Test-Splitting)\n",
    " - [Parameter Auto-tuning](#Parameter-Auto-tuning)\n",
    " - [Find Best Parameters](#Find-Best-Parameters)\n",
    "7. [Model Integration](#Model-Integration)\n",
    "8. [Model Evaluation](#Model-Evaluation)\n",
    " - [Feature Importance](#Feature-Importance)\n",
    " - [Testing Set Scores](#Testing-Set-Scores)\n",
    " - [Plot ROC-AUC](#Plot-ROC-AUC)\n",
    " - [Select Thresholds](#Select-Thresholds)\n",
    "9. [CONCLUSION](#CONCLUSION)\n"
   ]
  },
  {
   "cell_type": "markdown",
   "metadata": {},
   "source": [
    "# INTRODUCTION\n",
    "\n",
    "[[go back to the top]](#TABLE-OF-CONTENTS)\n",
    "\n",
    "[Lending Club](https://www.lendingclub.com/) is a US peer-to-peer lending company that provides a largest peer-to-peer online lending platform. The Lending Club’s platform enables borrowers to obtain a loan funded by investors. Investors profit from interest payments on loans. Based on the levels of loans' default rate, Lending categorizes the quality of the loans into seven grades, each of which assigned with different interest rates and risks. From the investors' point of view, they want to find out the potential default rate of each specific loans, in order to avoid investing on those loans with high risk of default. **The goal of this project is to build a predictive model to predict the default rate of the newly issued loans, based on information from historic loans.** \n",
    "\n",
    "The centerpiece of this model’s operation is to use algorithm to choose which notes to invest in. Often investors have to choose between hundreds or thousands of available loans at Lending Club. This model makes the process easier by using machine-learning to calculate which notes are more likely to perform better than others. The moment new loans are added to the platforms, the algorithm analyzes the variables of these loans and only invests in the best ones."
   ]
  },
  {
   "cell_type": "markdown",
   "metadata": {},
   "source": [
    "# PROJECT SUMMARY\n",
    "\n",
    "[[go back to the top]](#TABLE-OF-CONTENTS)\n",
    "\n",
    "This project is implemented using Python on the Jupyter Notebook platform. Data processing and machine learning packages such as Pandas and Sci-kit Learn are utilized. The modeling is trained based on the Lending Club's historic loan data from year 2014.\n",
    "\n",
    "The target is to predict the default rate of the new loans listed on Lending Club. The workflow of the project consists of 6 steps: \n",
    "* [Loading Data](#Data-Acquisition)\n",
    "* [Exploratory Analysis](#Exploratory-Analysis)\n",
    "* [Feature Engineering](#Feature-Enginering)\n",
    "* [Model Building](#Model-Building)\n",
    "* [Model Integration](#Model-Integration)\n",
    "* [Model Evaluation](#Model-Evaluation)\n",
    "\n",
    "Data cleaning are performed to uniform the features used in the training set and the target set. Categorical variables are extracted into meaningful features for model input via feature engineering. XGBoost (Extreme Gradient Boost) is used as the modeling algorithm. As an advanced Gradient Boosted Regression Trees (GBRT) algorithm,  XGBoost adopted several advantages of GBRT such as: natural handling of data of mixed type , predictive power, robustness to outliers in output space (via robust loss functions). Combining both Random Forest and Adaptive Gradent Boosting algorithms, XGBoost exhibited high efficiency and flexibility in modeling large datasets with ease of implementation. \n",
    "\n",
    "The model is then autotuned to optimize its performance using Bayesian Optimization and Cross Validation. The tuned model is tested using the Area Under Curve (AUC) of the Receiver Operating Characteristics (ROC) as the performance metrics. The overall AUC score reaches above 73% on the testing set. Finally, the tuned model is saved using Pickle and integrated into an interactive web-application built with Flask Framework.\n",
    "\n",
    "The total runtime for model building and model tuning may take 4-5 hours, depending on computer hardware. "
   ]
  },
  {
   "cell_type": "markdown",
   "metadata": {},
   "source": [
    "## Required Libraries\n",
    "\n",
    "This notebook uses several standard Python packages and special packages for model building and model tuning. The primary libraries that we'll be using are:\n",
    "\n",
    "* **requests**: request data from API servers. \n",
    "* **pandas**: and **numpy**: numeric paneled data operation. \n",
    "* **matplotlib** and **seaborn**: data visualization.\n",
    "* **xgboost**: XGBoost algorithm.\n",
    "* **bayes_opt**: Bayesian Optimization.\n",
    "* **sklearn**: Sci-kit Learn for model buidling and evaluation.\n"
   ]
  },
  {
   "cell_type": "code",
   "execution_count": 1,
   "metadata": {},
   "outputs": [],
   "source": [
    "import requests\n",
    "import json\n",
    "import pandas as pd\n",
    "import numpy as np\n",
    "import matplotlib.pyplot as plt\n",
    "import datetime as dt\n",
    "import seaborn as sns\n",
    "%matplotlib inline"
   ]
  },
  {
   "cell_type": "markdown",
   "metadata": {},
   "source": [
    "# Data Acquisition\n",
    "\n",
    "[[go back to the top]](#TABLE-OF-CONTENTS)"
   ]
  },
  {
   "cell_type": "markdown",
   "metadata": {},
   "source": [
    "## Load Current Loan Data\n",
    "\n",
    "Lending Club constantly updates its newly issued loans, which are accessed via Lending Club's API services. The data are loaded into Pandas DataFrame using Python's \"requests\" function. The current loan data are then saved into json format and read into Pandas DataFrame. "
   ]
  },
  {
   "cell_type": "code",
   "execution_count": 2,
   "metadata": {},
   "outputs": [],
   "source": [
    "api_key = open('apikeys.txt', 'r').read()\n",
    "headers = {\"Authorization\": api_key}\n",
    "url = 'https://api.lendingclub.com/api/investor/v1/loans/listing'"
   ]
  },
  {
   "cell_type": "code",
   "execution_count": 3,
   "metadata": {},
   "outputs": [],
   "source": [
    "r = requests.get(url, headers = headers)"
   ]
  },
  {
   "cell_type": "code",
   "execution_count": 4,
   "metadata": {},
   "outputs": [],
   "source": [
    "data = r.json()"
   ]
  },
  {
   "cell_type": "code",
   "execution_count": 5,
   "metadata": {},
   "outputs": [],
   "source": [
    "myData = data['loans']"
   ]
  },
  {
   "cell_type": "code",
   "execution_count": 6,
   "metadata": {},
   "outputs": [],
   "source": [
    "with open('current_list.txt', 'w') as outfile:\n",
    "    json.dump(myData, outfile)"
   ]
  },
  {
   "cell_type": "code",
   "execution_count": 7,
   "metadata": {},
   "outputs": [],
   "source": [
    "df_current = pd.read_json('current_list.txt')"
   ]
  },
  {
   "cell_type": "markdown",
   "metadata": {},
   "source": [
    "## Load 2014 Loan Data\n",
    "\n",
    "Lending Club offers open access to its historical loan data from 2007. In this project the loan data from year 2014 were loaded into Pandas DataFrame to be used as the training set. "
   ]
  },
  {
   "cell_type": "code",
   "execution_count": 8,
   "metadata": {},
   "outputs": [
    {
     "name": "stderr",
     "output_type": "stream",
     "text": [
      "C:\\ProgramData\\Anaconda2\\lib\\site-packages\\ipykernel_launcher.py:2: ParserWarning: Falling back to the 'python' engine because the 'c' engine does not support skipfooter; you can avoid this warning by specifying engine='python'.\n",
      "  \n"
     ]
    }
   ],
   "source": [
    "\n",
    "df_2014 = pd.read_csv('data/loanStats2014.csv', skiprows = 1, skipfooter=2)"
   ]
  },
  {
   "cell_type": "code",
   "execution_count": 9,
   "metadata": {},
   "outputs": [
    {
     "data": {
      "text/html": [
       "<div>\n",
       "<style scoped>\n",
       "    .dataframe tbody tr th:only-of-type {\n",
       "        vertical-align: middle;\n",
       "    }\n",
       "\n",
       "    .dataframe tbody tr th {\n",
       "        vertical-align: top;\n",
       "    }\n",
       "\n",
       "    .dataframe thead th {\n",
       "        text-align: right;\n",
       "    }\n",
       "</style>\n",
       "<table border=\"1\" class=\"dataframe\">\n",
       "  <thead>\n",
       "    <tr style=\"text-align: right;\">\n",
       "      <th></th>\n",
       "      <th>id</th>\n",
       "      <th>member_id</th>\n",
       "      <th>loan_amnt</th>\n",
       "      <th>funded_amnt</th>\n",
       "      <th>funded_amnt_inv</th>\n",
       "      <th>term</th>\n",
       "      <th>int_rate</th>\n",
       "      <th>installment</th>\n",
       "      <th>grade</th>\n",
       "      <th>sub_grade</th>\n",
       "      <th>...</th>\n",
       "      <th>sec_app_earliest_cr_line</th>\n",
       "      <th>sec_app_inq_last_6mths</th>\n",
       "      <th>sec_app_mort_acc</th>\n",
       "      <th>sec_app_open_acc</th>\n",
       "      <th>sec_app_revol_util</th>\n",
       "      <th>sec_app_open_il_6m</th>\n",
       "      <th>sec_app_num_rev_accts</th>\n",
       "      <th>sec_app_chargeoff_within_12_mths</th>\n",
       "      <th>sec_app_collections_12_mths_ex_med</th>\n",
       "      <th>sec_app_mths_since_last_major_derog</th>\n",
       "    </tr>\n",
       "  </thead>\n",
       "  <tbody>\n",
       "    <tr>\n",
       "      <th>0</th>\n",
       "      <td>36805548</td>\n",
       "      <td>NaN</td>\n",
       "      <td>10400</td>\n",
       "      <td>10400</td>\n",
       "      <td>10400</td>\n",
       "      <td>36 months</td>\n",
       "      <td>6.99%</td>\n",
       "      <td>321.08</td>\n",
       "      <td>A</td>\n",
       "      <td>A3</td>\n",
       "      <td>...</td>\n",
       "      <td>NaN</td>\n",
       "      <td>NaN</td>\n",
       "      <td>NaN</td>\n",
       "      <td>NaN</td>\n",
       "      <td>NaN</td>\n",
       "      <td>NaN</td>\n",
       "      <td>NaN</td>\n",
       "      <td>NaN</td>\n",
       "      <td>NaN</td>\n",
       "      <td>NaN</td>\n",
       "    </tr>\n",
       "    <tr>\n",
       "      <th>1</th>\n",
       "      <td>38098114</td>\n",
       "      <td>NaN</td>\n",
       "      <td>15000</td>\n",
       "      <td>15000</td>\n",
       "      <td>15000</td>\n",
       "      <td>60 months</td>\n",
       "      <td>12.39%</td>\n",
       "      <td>336.64</td>\n",
       "      <td>C</td>\n",
       "      <td>C1</td>\n",
       "      <td>...</td>\n",
       "      <td>NaN</td>\n",
       "      <td>NaN</td>\n",
       "      <td>NaN</td>\n",
       "      <td>NaN</td>\n",
       "      <td>NaN</td>\n",
       "      <td>NaN</td>\n",
       "      <td>NaN</td>\n",
       "      <td>NaN</td>\n",
       "      <td>NaN</td>\n",
       "      <td>NaN</td>\n",
       "    </tr>\n",
       "    <tr>\n",
       "      <th>2</th>\n",
       "      <td>37822187</td>\n",
       "      <td>NaN</td>\n",
       "      <td>9600</td>\n",
       "      <td>9600</td>\n",
       "      <td>9600</td>\n",
       "      <td>36 months</td>\n",
       "      <td>13.66%</td>\n",
       "      <td>326.53</td>\n",
       "      <td>C</td>\n",
       "      <td>C3</td>\n",
       "      <td>...</td>\n",
       "      <td>NaN</td>\n",
       "      <td>NaN</td>\n",
       "      <td>NaN</td>\n",
       "      <td>NaN</td>\n",
       "      <td>NaN</td>\n",
       "      <td>NaN</td>\n",
       "      <td>NaN</td>\n",
       "      <td>NaN</td>\n",
       "      <td>NaN</td>\n",
       "      <td>NaN</td>\n",
       "    </tr>\n",
       "    <tr>\n",
       "      <th>3</th>\n",
       "      <td>37662224</td>\n",
       "      <td>NaN</td>\n",
       "      <td>7650</td>\n",
       "      <td>7650</td>\n",
       "      <td>7650</td>\n",
       "      <td>36 months</td>\n",
       "      <td>13.66%</td>\n",
       "      <td>260.20</td>\n",
       "      <td>C</td>\n",
       "      <td>C3</td>\n",
       "      <td>...</td>\n",
       "      <td>NaN</td>\n",
       "      <td>NaN</td>\n",
       "      <td>NaN</td>\n",
       "      <td>NaN</td>\n",
       "      <td>NaN</td>\n",
       "      <td>NaN</td>\n",
       "      <td>NaN</td>\n",
       "      <td>NaN</td>\n",
       "      <td>NaN</td>\n",
       "      <td>NaN</td>\n",
       "    </tr>\n",
       "    <tr>\n",
       "      <th>4</th>\n",
       "      <td>37612354</td>\n",
       "      <td>NaN</td>\n",
       "      <td>12800</td>\n",
       "      <td>12800</td>\n",
       "      <td>12800</td>\n",
       "      <td>60 months</td>\n",
       "      <td>17.14%</td>\n",
       "      <td>319.08</td>\n",
       "      <td>D</td>\n",
       "      <td>D4</td>\n",
       "      <td>...</td>\n",
       "      <td>NaN</td>\n",
       "      <td>NaN</td>\n",
       "      <td>NaN</td>\n",
       "      <td>NaN</td>\n",
       "      <td>NaN</td>\n",
       "      <td>NaN</td>\n",
       "      <td>NaN</td>\n",
       "      <td>NaN</td>\n",
       "      <td>NaN</td>\n",
       "      <td>NaN</td>\n",
       "    </tr>\n",
       "  </tbody>\n",
       "</table>\n",
       "<p>5 rows × 128 columns</p>\n",
       "</div>"
      ],
      "text/plain": [
       "         id  member_id  loan_amnt  funded_amnt  funded_amnt_inv        term  \\\n",
       "0  36805548        NaN      10400        10400            10400   36 months   \n",
       "1  38098114        NaN      15000        15000            15000   60 months   \n",
       "2  37822187        NaN       9600         9600             9600   36 months   \n",
       "3  37662224        NaN       7650         7650             7650   36 months   \n",
       "4  37612354        NaN      12800        12800            12800   60 months   \n",
       "\n",
       "  int_rate  installment grade sub_grade                 ...                  \\\n",
       "0    6.99%       321.08     A        A3                 ...                   \n",
       "1   12.39%       336.64     C        C1                 ...                   \n",
       "2   13.66%       326.53     C        C3                 ...                   \n",
       "3   13.66%       260.20     C        C3                 ...                   \n",
       "4   17.14%       319.08     D        D4                 ...                   \n",
       "\n",
       "  sec_app_earliest_cr_line sec_app_inq_last_6mths sec_app_mort_acc  \\\n",
       "0                      NaN                    NaN              NaN   \n",
       "1                      NaN                    NaN              NaN   \n",
       "2                      NaN                    NaN              NaN   \n",
       "3                      NaN                    NaN              NaN   \n",
       "4                      NaN                    NaN              NaN   \n",
       "\n",
       "   sec_app_open_acc sec_app_revol_util sec_app_open_il_6m  \\\n",
       "0               NaN                NaN                NaN   \n",
       "1               NaN                NaN                NaN   \n",
       "2               NaN                NaN                NaN   \n",
       "3               NaN                NaN                NaN   \n",
       "4               NaN                NaN                NaN   \n",
       "\n",
       "  sec_app_num_rev_accts sec_app_chargeoff_within_12_mths  \\\n",
       "0                   NaN                              NaN   \n",
       "1                   NaN                              NaN   \n",
       "2                   NaN                              NaN   \n",
       "3                   NaN                              NaN   \n",
       "4                   NaN                              NaN   \n",
       "\n",
       "  sec_app_collections_12_mths_ex_med sec_app_mths_since_last_major_derog  \n",
       "0                                NaN                                 NaN  \n",
       "1                                NaN                                 NaN  \n",
       "2                                NaN                                 NaN  \n",
       "3                                NaN                                 NaN  \n",
       "4                                NaN                                 NaN  \n",
       "\n",
       "[5 rows x 128 columns]"
      ]
     },
     "execution_count": 9,
     "metadata": {},
     "output_type": "execute_result"
    }
   ],
   "source": [
    "df_2014.head()"
   ]
  },
  {
   "cell_type": "code",
   "execution_count": 10,
   "metadata": {},
   "outputs": [
    {
     "data": {
      "text/plain": [
       "(235629, 128)"
      ]
     },
     "execution_count": 10,
     "metadata": {},
     "output_type": "execute_result"
    }
   ],
   "source": [
    "df_2014.shape"
   ]
  },
  {
   "cell_type": "markdown",
   "metadata": {},
   "source": [
    "# Exploratory Analysis\n",
    "\n",
    "[[go back to the top]](#TABLE-OF-CONTENTS)\n",
    "\n",
    "Exploratory Analysis consist of parts:\n",
    "* [Feature Exploration](#Feature-Exploration)\n",
    "* [Data Exploration](#Data-Exploration)\n",
    "* [Exploratory Visualization](#Exploratory-Visualization)\n",
    "\n",
    "The target feature of the predictive model is labeled as \"loan status\", which refers to the stutus of loans as of today. A histogram is plotted to visualize the counts of different statuses. There are totally 7 different loan statuses, among which \"Fully Paid\" and \"Charged Off\" refer to those loans whose statuses are already determined, while all other statuses may still change over time. In this project only the loans with statuses of \"Fully Paid\" and \"Charged Off\" are considered. They are labeled as \"0\" (no default) and \"1\" (default), respectively. "
   ]
  },
  {
   "cell_type": "code",
   "execution_count": 11,
   "metadata": {},
   "outputs": [],
   "source": [
    "missing_df = df_2014.isnull().sum().reset_index()\n",
    "missing_df.columns = ['feature_name', 'missing_percentage']\n",
    "missing_df = missing_df.loc[missing_df['missing_percentage']>0]\n",
    "missing_df.missing_percentage = missing_df.missing_percentage / df_2014.shape[0] * 100\n",
    "missing_df = missing_df.sort_values(by='missing_percentage')"
   ]
  },
  {
   "cell_type": "code",
   "execution_count": 12,
   "metadata": {},
   "outputs": [
    {
     "data": {
      "image/png": "[encoded data removed]",
      "text/plain": [
       "<matplotlib.figure.Figure at 0xaf773c8>"
      ]
     },
     "metadata": {},
     "output_type": "display_data"
    }
   ],
   "source": [
    "missing_df.plot(x='feature_name', y='missing_percentage', kind='barh', figsize=(8,8),fontsize = 10, logx=False )\n",
    "plt.title(\"Missing percentage in each column\", fontsize = 12)\n",
    "plt.xlabel(\"Missing percentage\",fontsize=12)\n",
    "plt.ylabel(\"Feature\",fontsize=12)\n",
    "plt.show()"
   ]
  },
  {
   "cell_type": "code",
   "execution_count": 13,
   "metadata": {},
   "outputs": [
    {
     "data": {
      "text/plain": [
       "(array([0, 1, 2, 3, 4, 5, 6]), <a list of 7 Text xticklabel objects>)"
      ]
     },
     "execution_count": 13,
     "metadata": {},
     "output_type": "execute_result"
    },
    {
     "data": {
      "image/png": "[encoded data removed]",
      "text/plain": [
       "<matplotlib.figure.Figure at 0xcb06358>"
      ]
     },
     "metadata": {},
     "output_type": "display_data"
    }
   ],
   "source": [
    "g = df_2014.loan_status.value_counts().plot('bar', rot = 90)\n",
    "g.set_xlabel('Loan Status')\n",
    "g.set_ylabel('Count')\n",
    "plt.xticks(rotation = 30)"
   ]
  },
  {
   "cell_type": "markdown",
   "metadata": {},
   "source": [
    "From the above histogram, it is seen that the ratio between \"Fully Paid\" and \"Charged Off\" loans are about 4:1. Discarding all other loan statuses, the overall default rate for the 2014 loans is about 0.2. Over time, this ratio may change slightly but this does not influence the training results much.\n",
    "\n",
    "The term of the loans has only two values, 36 months or 60 months, in the ratio of about 2:1. As of the date of this project, most of the 36 months loans should be closed but most 60 months loans are still open. So this model will have a better prediction performance on the 36 months loans than the 60 months loans. "
   ]
  },
  {
   "cell_type": "code",
   "execution_count": 14,
   "metadata": {},
   "outputs": [
    {
     "data": {
      "text/plain": [
       "Text(0,0.5,u'Count')"
      ]
     },
     "execution_count": 14,
     "metadata": {},
     "output_type": "execute_result"
    },
    {
     "data": {
      "image/png": "[encoded data removed]",
      "text/plain": [
       "<matplotlib.figure.Figure at 0xcdb9470>"
      ]
     },
     "metadata": {},
     "output_type": "display_data"
    }
   ],
   "source": [
    "g = df_2014.term.value_counts().plot('bar', rot = 0)\n",
    "g.set_xlabel('Term')\n",
    "g.set_ylabel('Count')"
   ]
  },
  {
   "cell_type": "markdown",
   "metadata": {},
   "source": [
    "## Feature Exploration"
   ]
  },
  {
   "cell_type": "code",
   "execution_count": 15,
   "metadata": {},
   "outputs": [
    {
     "data": {
      "text/plain": [
       "((235629, 128), (10, 119))"
      ]
     },
     "execution_count": 15,
     "metadata": {},
     "output_type": "execute_result"
    }
   ],
   "source": [
    "df_2014.shape, df_current.shape"
   ]
  },
  {
   "cell_type": "markdown",
   "metadata": {},
   "source": [
    "Comparing the features between the historic and the current data, there are several distinct differences: First, the number of features in the 2014 data is more than the current data. Second, the feature names are labeled differently: the historic feature names are separated by underscore \"\\_\", while the current feature names have upper case letters. To uniform the feature names, the underscores are deleted in the historic data, and the letters are all converted to lower cases in the current data. In some cases, different feature names may refer to the same variable, so those feature names are uniformed also. "
   ]
  },
  {
   "cell_type": "code",
   "execution_count": 16,
   "metadata": {},
   "outputs": [],
   "source": [
    "cols = []\n",
    "for col in df_2014.columns:\n",
    "    cols.append(col.replace(\"_\", \"\"))"
   ]
  },
  {
   "cell_type": "code",
   "execution_count": 17,
   "metadata": {},
   "outputs": [],
   "source": [
    "df_2014.columns = cols"
   ]
  },
  {
   "cell_type": "code",
   "execution_count": 18,
   "metadata": {},
   "outputs": [],
   "source": [
    "cols = []\n",
    "for col in df_current.columns:\n",
    "    cols.append(col.lower())"
   ]
  },
  {
   "cell_type": "code",
   "execution_count": 19,
   "metadata": {},
   "outputs": [],
   "source": [
    "df_current.columns = cols"
   ]
  },
  {
   "cell_type": "code",
   "execution_count": 20,
   "metadata": {},
   "outputs": [],
   "source": [
    "# Change some column names in df_2014 to match df_current\n",
    "# Fundedamnt to fundedamount. But this feature is not used since all loans in history data are fully funded. \n",
    "df_2014.rename(columns={'zipcode': 'addrzip', 'verificationstatus': 'isincv', 'verificationstatusjoint': 'isincvjoint',\\\n",
    "                        'loanamnt': 'loanamount', 'numacctsever120pd': 'numacctsever120ppd'}, inplace=True)"
   ]
  },
  {
   "cell_type": "markdown",
   "metadata": {},
   "source": [
    "Having uniformed the feature names, the next task is to find the common features in both historic and current data sets. The common features are extracted using set operations. The historic data frame df_2014 is then reduced to only have the common features plus the loan status (\"loanstatus\") and issued date (\"issued\"). "
   ]
  },
  {
   "cell_type": "code",
   "execution_count": 21,
   "metadata": {},
   "outputs": [],
   "source": [
    "#Find common columns\n",
    "com_cols = set(df_2014.columns) & set(df_current.columns)\n",
    "hist_unique = set(df_2014.columns) - set (df_current.columns)\n",
    "cur_unique = set(df_current.columns) - set (df_2014.columns) "
   ]
  },
  {
   "cell_type": "code",
   "execution_count": 22,
   "metadata": {},
   "outputs": [],
   "source": [
    "df_2014 = df_2014[list(com_cols) + [\"loanstatus\", \"issued\"]]"
   ]
  },
  {
   "cell_type": "markdown",
   "metadata": {},
   "source": [
    "## Data Exploration\n",
    "\n",
    "The next step is the preliminary data exploration. There are many all-null columns, which are dropped from the training set. The rows with loan statuses other than \"Charged Off\" or \"Fully Paid\" are also dropped from the training set. The resulted data frame has three different data types: \"object\", \"int64\", and \"float64\". All the \"object\" features are saved into a list of categorical variables \"cat_vars', and all the numeric features are saved into \"num_vars\". \n",
    "\n",
    "There are 18 resulted categorical features: \n",
    "\n",
    "'addrstate', 'addrzip', 'applicationtype', 'desc', 'earliestcrline',\n",
    "'emplength', 'emptitle', 'grade', 'homeownership', 'initialliststatus',\n",
    "'intrate', 'isincv', 'issued', 'loanstatus', 'purpose', 'revolutil',\n",
    "'subgrade', 'term'    \n",
    "       \n",
    "Each of them will be converted or transformed in the [Feature Engineering](#Feature-Engineering) step to be processed by the model algorithm.  "
   ]
  },
  {
   "cell_type": "code",
   "execution_count": 23,
   "metadata": {},
   "outputs": [],
   "source": [
    "null_2014 = df_2014.columns[df_2014.isnull().all()]"
   ]
  },
  {
   "cell_type": "code",
   "execution_count": 24,
   "metadata": {},
   "outputs": [],
   "source": [
    "df_2014.drop(null_2014, axis = 1, inplace=True)"
   ]
  },
  {
   "cell_type": "code",
   "execution_count": 25,
   "metadata": {},
   "outputs": [],
   "source": [
    "df_2014 = df_2014[df_2014.loanstatus.isin([\"Charged Off\", \"Fully Paid\"])]"
   ]
  },
  {
   "cell_type": "code",
   "execution_count": 26,
   "metadata": {},
   "outputs": [],
   "source": [
    "df_2014_raw = df_2014"
   ]
  },
  {
   "cell_type": "code",
   "execution_count": 27,
   "metadata": {},
   "outputs": [],
   "source": [
    "data_types = df_2014.dtypes  \n",
    "cat_vars = list(data_types[data_types=='object'].index)\n",
    "num_vars = list(data_types[data_types=='int64'].index) + list(data_types[data_types=='float64'].index)"
   ]
  },
  {
   "cell_type": "code",
   "execution_count": 28,
   "metadata": {},
   "outputs": [
    {
     "name": "stdout",
     "output_type": "stream",
     "text": [
      "There are 18 categorical features. We will process them one by one.\n"
     ]
    }
   ],
   "source": [
    "print (\"There are %d categorical features. We will process them one by one.\" %len(cat_vars))"
   ]
  },
  {
   "cell_type": "markdown",
   "metadata": {},
   "source": [
    "## Exploratory Visualization\n",
    "\n",
    "Visualization packages \"Matplotlib\" and \"Seaborn\" were used to plot the distribution of the categorical features. "
   ]
  },
  {
   "cell_type": "code",
   "execution_count": 29,
   "metadata": {},
   "outputs": [
    {
     "name": "stdout",
     "output_type": "stream",
     "text": [
      "(18, 58, (169475, 76))\n"
     ]
    }
   ],
   "source": [
    "print(len(cat_vars), len(num_vars), df_2014.shape)"
   ]
  },
  {
   "cell_type": "code",
   "execution_count": 30,
   "metadata": {},
   "outputs": [],
   "source": [
    "cat_vars_plot = ['applicationtype', 'isincv', 'purpose', 'subgrade', 'initialliststatus', 'addrstate', 'grade', 'term',\\\n",
    "                'homeownership', 'emplength']"
   ]
  },
  {
   "cell_type": "code",
   "execution_count": 31,
   "metadata": {},
   "outputs": [
    {
     "data": {
      "image/png": "[encoded data removed]",
      "text/plain": [
       "<matplotlib.figure.Figure at 0xca3d7f0>"
      ]
     },
     "metadata": {},
     "output_type": "display_data"
    },
    {
     "data": {
      "image/png": "[encoded data removed]",
      "text/plain": [
       "<matplotlib.figure.Figure at 0xca3d470>"
      ]
     },
     "metadata": {},
     "output_type": "display_data"
    },
    {
     "data": {
      "image/png": "[encoded data removed]",
      "text/plain": [
       "<matplotlib.figure.Figure at 0xcc6e2b0>"
      ]
     },
     "metadata": {},
     "output_type": "display_data"
    },
    {
     "data": {
      "image/png": "[encoded data removed]",
      "text/plain": [
       "<matplotlib.figure.Figure at 0xd15e6d8>"
      ]
     },
     "metadata": {},
     "output_type": "display_data"
    },
    {
     "data": {
      "image/png": "[encoded data removed]",
      "text/plain": [
       "<matplotlib.figure.Figure at 0xd98f748>"
      ]
     },
     "metadata": {},
     "output_type": "display_data"
    }
   ],
   "source": [
    "n_cols = 2\n",
    "n_rows = 5\n",
    "for i in range(n_rows):\n",
    "    fg,ax = plt.subplots(nrows=1,ncols=n_cols,figsize=(10, 5))\n",
    "    for j in range(n_cols):\n",
    "        g = sns.countplot(x=cat_vars_plot[i*n_cols+j], data=df_2014, ax=ax[j])\n",
    "        g.set_xticklabels(labels=g.get_xticklabels(), rotation = 0)"
   ]
  },
  {
   "cell_type": "markdown",
   "metadata": {},
   "source": [
    "# Feature Engineering\n",
    "\n",
    "[[go back to the top]](#TABLE-OF-CONTENTS)\n",
    "\n",
    "Feature engineering is conducted mainly on the categorical features. The purpose of feature engineering is either to convert categorical variables to numerical variables or extract new features that may potentially enhance model performance. There are 5 different types of categorical features, each is treated with different strategies. The table below lists each type of categorical features and their corresponding solutions.\n",
    "\n",
    "|           Type          |        Name       |        Definition       |               Solution              |\n",
    "|:-----------------------:|:-----------------:|:-----------------------:|:-----------------------------------:|\n",
    "| Intrinsically numerical |      intrate      |      Interest rate      |         Convert to numerical        |\n",
    "|                         |     revolutil     | Credit line utilization |                 ..                  |\n",
    "|                         |        term       |   Term of loan (36/60)  |                 ..                  |\n",
    "|        Date-time        |   earliestcrline  |  Date first credit line | Extract new feature: credit history |\n",
    "|     High cardinality    |      emptitle     |     Employment title    |     NLP and extract new features    |\n",
    "|                         |        desc       |      User comments      |                 ..                  |\n",
    "|                         |      addrzip      |         Zipcode         |      Encoding by frequency rate     |\n",
    "|                         |     addrstate     |          State          |                 ..                  |\n",
    "|         Ordinal         |       grade       |     Loan risk grade     |            Label encoding           |\n",
    "|                         |      subgrade     |    Loan risk subgrade   |                 ..                  |\n",
    "|                         |     emplength     |     Months employed     |                 ..                  |\n",
    "|          Other          |  applicationtype  |     Application type    |   Only one type. Drop the feature.  |\n",
    "|                         |   homeownership   |      Home ownership     |        One-hot encoding (OHE)       |\n",
    "|                         | initialliststatus |   Initial list status   |                 ..                  |\n",
    "|                         |      purpose      |     Purpose of loan     |                 ..                  |\n",
    "|                         |       Isincv      |   Is income verified?   |                 ..                  |"
   ]
  },
  {
   "cell_type": "markdown",
   "metadata": {},
   "source": [
    "## Categorical Feature Treatment\n",
    "\n",
    "Categorical features are treated one-by-one based on the nature of each feature. After the treatment of each categorical feature, that feature name is removed from the categorical variables and a new feature is added into the numerical variables."
   ]
  },
  {
   "cell_type": "markdown",
   "metadata": {},
   "source": [
    "### Feature 1. \"addrstate\" - convert to frequency\n",
    "\n",
    "The address state has over 48 unique values. It is hard to use dummy encoding for all of them. However, the frequency of each state may be associated with the default rate. So frequency encoding is performed on the address state feature. "
   ]
  },
  {
   "cell_type": "code",
   "execution_count": 32,
   "metadata": {},
   "outputs": [],
   "source": [
    "addrstate_freq = pd.DataFrame({'addrstate': df_2014.addrstate.value_counts(normalize = True).index, \\\n",
    "                               'state_freq': df_2014.addrstate.value_counts(normalize = True).values})"
   ]
  },
  {
   "cell_type": "code",
   "execution_count": 33,
   "metadata": {
    "scrolled": false
   },
   "outputs": [],
   "source": [
    "df_2014 = pd.merge(df_2014, addrstate_freq, how = 'left', on = 'addrstate')"
   ]
  },
  {
   "cell_type": "code",
   "execution_count": 34,
   "metadata": {},
   "outputs": [],
   "source": [
    "cat_vars.remove('addrstate')\n",
    "num_vars.append('state_freq')"
   ]
  },
  {
   "cell_type": "code",
   "execution_count": 35,
   "metadata": {},
   "outputs": [
    {
     "name": "stdout",
     "output_type": "stream",
     "text": [
      "(17, 59, (169475, 77))\n"
     ]
    }
   ],
   "source": [
    "print(len(cat_vars), len(num_vars), df_2014.shape)"
   ]
  },
  {
   "cell_type": "markdown",
   "metadata": {},
   "source": [
    "### Feature 2. 'addrzip'  - convert to numeric zip and frequency. \n",
    "\n",
    "In the raw data, the address zipcode is expressed in the format of \"123XX\", where the last two digits of the zipcode are masked. In this process, the first three digits of address zipcodes are extracted as numerical features by stripping \"XX\" from the entries. Then another feature \"zip_freq\" based on the frequency of zipcodes is also created. "
   ]
  },
  {
   "cell_type": "code",
   "execution_count": 36,
   "metadata": {},
   "outputs": [],
   "source": [
    "df_2014.addrzip = df_2014.addrzip.apply(lambda x: int(x.strip('xx')))\n",
    "\n",
    "addrzip_freq = pd.DataFrame({'addrzip': df_2014.addrzip.value_counts(normalize = True).index, \\\n",
    "                             'zip_freq': df_2014.addrzip.value_counts(normalize = True).values})"
   ]
  },
  {
   "cell_type": "code",
   "execution_count": 37,
   "metadata": {},
   "outputs": [],
   "source": [
    "df_2014 = pd.merge(df_2014, addrzip_freq, how = 'left', on = 'addrzip')"
   ]
  },
  {
   "cell_type": "code",
   "execution_count": 38,
   "metadata": {},
   "outputs": [],
   "source": [
    "cat_vars.remove('addrzip')\n",
    "num_vars.append('addrzip')\n",
    "num_vars.append('zip_freq')"
   ]
  },
  {
   "cell_type": "code",
   "execution_count": 39,
   "metadata": {},
   "outputs": [
    {
     "name": "stdout",
     "output_type": "stream",
     "text": [
      "(16, 61, (169475, 78))\n"
     ]
    }
   ],
   "source": [
    "print(len(cat_vars), len(num_vars), df_2014.shape)"
   ]
  },
  {
   "cell_type": "markdown",
   "metadata": {},
   "source": [
    "### Feature 3. 'applicationtype'  -remove from cat_vars"
   ]
  },
  {
   "cell_type": "markdown",
   "metadata": {},
   "source": [
    "From the plot of this feature it is found that the only value of \"application type\" is \"Individual\". So this feature is dropped from the model. "
   ]
  },
  {
   "cell_type": "code",
   "execution_count": 40,
   "metadata": {},
   "outputs": [],
   "source": [
    "# Only one value in this feature. Remove. \n",
    "cat_vars.remove('applicationtype')"
   ]
  },
  {
   "cell_type": "code",
   "execution_count": 41,
   "metadata": {},
   "outputs": [
    {
     "name": "stdout",
     "output_type": "stream",
     "text": [
      "(15, 61, (169475, 78))\n"
     ]
    }
   ],
   "source": [
    "print(len(cat_vars), len(num_vars), df_2014.shape)"
   ]
  },
  {
   "cell_type": "markdown",
   "metadata": {},
   "source": [
    "### Feature 4. 'desc' - combine levels.   (nan - 0, short - 1, long - 2)"
   ]
  },
  {
   "cell_type": "markdown",
   "metadata": {},
   "source": [
    "This is the description that users input when applying for loans. There is only a small portion of this feature that are non-empty. The entries for description are all different. A new feature \"desc_islong\" is thus extracted from this column, by treating the null values as 0, those with short descriptions as 1, and those with long descriptions as 2. Natural Language Processing is used in this case to differentiate the length of decriptions. "
   ]
  },
  {
   "cell_type": "code",
   "execution_count": 42,
   "metadata": {},
   "outputs": [],
   "source": [
    "df_2014.desc = df_2014.desc[df_2014.desc.notnull()].apply(lambda x: x.split('>')[1][:-3] if x.find('>') != -1 else x)"
   ]
  },
  {
   "cell_type": "code",
   "execution_count": 43,
   "metadata": {},
   "outputs": [],
   "source": [
    "desc_length = df_2014.desc[df_2014.desc.notnull()].apply(lambda x: len(x))"
   ]
  },
  {
   "cell_type": "code",
   "execution_count": 44,
   "metadata": {},
   "outputs": [],
   "source": [
    "median = desc_length.median()"
   ]
  },
  {
   "cell_type": "code",
   "execution_count": 45,
   "metadata": {},
   "outputs": [],
   "source": [
    "desc_islong = pd.DataFrame(desc_length.apply(lambda x: 1 if x < median else 2))"
   ]
  },
  {
   "cell_type": "code",
   "execution_count": 46,
   "metadata": {},
   "outputs": [],
   "source": [
    "desc_islong.columns = ['desc_islong']"
   ]
  },
  {
   "cell_type": "code",
   "execution_count": 47,
   "metadata": {},
   "outputs": [],
   "source": [
    "df_2014 = pd.merge(df_2014, desc_islong, how = 'left', left_index=True, right_index=True)"
   ]
  },
  {
   "cell_type": "code",
   "execution_count": 48,
   "metadata": {},
   "outputs": [],
   "source": [
    "df_2014.desc_islong = df_2014.desc_islong.fillna(0).astype('int')"
   ]
  },
  {
   "cell_type": "code",
   "execution_count": 49,
   "metadata": {},
   "outputs": [],
   "source": [
    "cat_vars.remove('desc')\n",
    "num_vars.append('desc_islong')"
   ]
  },
  {
   "cell_type": "code",
   "execution_count": 50,
   "metadata": {},
   "outputs": [
    {
     "name": "stdout",
     "output_type": "stream",
     "text": [
      "(14, 62, (169475, 79))\n"
     ]
    }
   ],
   "source": [
    "print(len(cat_vars), len(num_vars), df_2014.shape)"
   ]
  },
  {
   "cell_type": "markdown",
   "metadata": {},
   "source": [
    "### Feature 5. 'earliestcrline' - create new feature as credit history length in days.\n",
    "\n",
    "\"Earliestcrline\" refers to the date the first credit line of the user was opened, which marks the credit history of the user. It is thus more meaningful to create a new feature as \"credit history\" for the model. The data were first converted to the datetime format, then the time delta in days is calculated from 2017/01/01. "
   ]
  },
  {
   "cell_type": "code",
   "execution_count": 51,
   "metadata": {},
   "outputs": [],
   "source": [
    "earliest_crl = df_2014['earliestcrline'].apply(lambda x: dt.datetime.strptime(str(x), '%b-%Y'))"
   ]
  },
  {
   "cell_type": "code",
   "execution_count": 52,
   "metadata": {},
   "outputs": [],
   "source": [
    "# Credit history in days. \n",
    "df_2014['credit_hist'] = earliest_crl.apply (lambda x: (dt.date(2017, 1, 1) - x.date()).days)"
   ]
  },
  {
   "cell_type": "code",
   "execution_count": 53,
   "metadata": {},
   "outputs": [],
   "source": [
    "cat_vars.remove('earliestcrline')\n",
    "num_vars.append('credit_hist')"
   ]
  },
  {
   "cell_type": "code",
   "execution_count": 54,
   "metadata": {},
   "outputs": [
    {
     "name": "stdout",
     "output_type": "stream",
     "text": [
      "(13, 63, (169475, 80))\n"
     ]
    }
   ],
   "source": [
    "print(len(cat_vars), len(num_vars), df_2014.shape)"
   ]
  },
  {
   "cell_type": "code",
   "execution_count": null,
   "metadata": {},
   "outputs": [],
   "source": []
  },
  {
   "cell_type": "markdown",
   "metadata": {},
   "source": [
    "### Feature 6. 'emplength' - convert to months\n",
    "\n",
    "This feature is the length of employment. It contains ordinal levels of values from < 1 year to $\\geqslant$10 years. The value of each level is extracted via Natural Language Processing and converted to months. Less than 1 year is labeled 0. For the n/a entries, it is likely that the user was unemployed, so any n/a values are replaced with a penalty term of \"-999\". "
   ]
  },
  {
   "cell_type": "code",
   "execution_count": 55,
   "metadata": {},
   "outputs": [
    {
     "data": {
      "text/plain": [
       "array(['8 years', '10+ years', '< 1 year', '6 years', '2 years',\n",
       "       '7 years', '9 years', nan, '4 years', '3 years', '1 year',\n",
       "       '5 years'], dtype=object)"
      ]
     },
     "execution_count": 55,
     "metadata": {},
     "output_type": "execute_result"
    }
   ],
   "source": [
    "df_2014.emplength.unique()"
   ]
  },
  {
   "cell_type": "code",
   "execution_count": 56,
   "metadata": {},
   "outputs": [],
   "source": [
    "df_2014.emplength.replace('n/a', np.nan, inplace = True)\n",
    "df_2014.emplength.replace('< 1 year', '0', inplace = True)\n",
    "df_2014.emplength.replace(to_replace='[^0-9]+', value = '', inplace= True, regex= True)"
   ]
  },
  {
   "cell_type": "code",
   "execution_count": 57,
   "metadata": {},
   "outputs": [],
   "source": [
    "df_2014.emplength = df_2014.emplength[df_2014.emplength.notnull()].astype(int).apply(lambda x: x * 12)"
   ]
  },
  {
   "cell_type": "code",
   "execution_count": 58,
   "metadata": {},
   "outputs": [],
   "source": [
    "df_2014.emplength.fillna(-999, inplace = True)"
   ]
  },
  {
   "cell_type": "code",
   "execution_count": 59,
   "metadata": {},
   "outputs": [],
   "source": [
    "cat_vars.remove('emplength')\n",
    "num_vars.append('emplength')"
   ]
  },
  {
   "cell_type": "code",
   "execution_count": 60,
   "metadata": {},
   "outputs": [
    {
     "name": "stdout",
     "output_type": "stream",
     "text": [
      "(12, 64, (169475, 80))\n"
     ]
    }
   ],
   "source": [
    "print(len(cat_vars), len(num_vars), df_2014.shape)"
   ]
  },
  {
   "cell_type": "markdown",
   "metadata": {},
   "source": [
    "### Feature 7. 'emptitle' - convert to managerial (2) or non-managerial (1) or unemployed (0). \n",
    "\n",
    "The title of employment also vary significantly so it is impossible to use dummy encoding for this feature. It can be assumed that a person with a managerial title may have better credit. As a result, the entries in this column are analyzed to find words such as \"manager\", \"president\", and so on. Those with a managerial title are labeled 1, and those without are labeled 0. The users with an n/a entry in this column are likely unemployed, so a penalty term of \"-999\" is also used in place of \"n/a\"."
   ]
  },
  {
   "cell_type": "code",
   "execution_count": 61,
   "metadata": {},
   "outputs": [],
   "source": [
    "df_2014.emptitle = df_2014.emptitle.astype('str').apply(lambda x: x.lower())"
   ]
  },
  {
   "cell_type": "code",
   "execution_count": 62,
   "metadata": {},
   "outputs": [],
   "source": [
    "df_2014.replace('nan', np.nan, inplace = True)"
   ]
  },
  {
   "cell_type": "code",
   "execution_count": 63,
   "metadata": {},
   "outputs": [],
   "source": [
    "df_2014['emptype'] = np.nan"
   ]
  },
  {
   "cell_type": "code",
   "execution_count": 64,
   "metadata": {},
   "outputs": [],
   "source": [
    "ismanager = df_2014.emptitle.str.contains('manager|president|officer|supervisor|director|excutive')"
   ]
  },
  {
   "cell_type": "code",
   "execution_count": 65,
   "metadata": {},
   "outputs": [],
   "source": [
    "isnonmanager = (ismanager == False)"
   ]
  },
  {
   "cell_type": "code",
   "execution_count": 66,
   "metadata": {},
   "outputs": [],
   "source": [
    "ismanager.fillna(False, inplace= True)"
   ]
  },
  {
   "cell_type": "code",
   "execution_count": 67,
   "metadata": {},
   "outputs": [
    {
     "name": "stderr",
     "output_type": "stream",
     "text": [
      "C:\\ProgramData\\Anaconda2\\lib\\site-packages\\ipykernel_launcher.py:1: SettingWithCopyWarning: \n",
      "A value is trying to be set on a copy of a slice from a DataFrame\n",
      "\n",
      "See the caveats in the documentation: http://pandas.pydata.org/pandas-docs/stable/indexing.html#indexing-view-versus-copy\n",
      "  \"\"\"Entry point for launching an IPython kernel.\n",
      "C:\\ProgramData\\Anaconda2\\lib\\site-packages\\ipykernel_launcher.py:2: SettingWithCopyWarning: \n",
      "A value is trying to be set on a copy of a slice from a DataFrame\n",
      "\n",
      "See the caveats in the documentation: http://pandas.pydata.org/pandas-docs/stable/indexing.html#indexing-view-versus-copy\n",
      "  \n"
     ]
    }
   ],
   "source": [
    "df_2014.emptype[ismanager] = 1\n",
    "df_2014.emptype[isnonmanager] = 0"
   ]
  },
  {
   "cell_type": "code",
   "execution_count": 68,
   "metadata": {},
   "outputs": [],
   "source": [
    "df_2014.emptype.fillna(-999, inplace= True)"
   ]
  },
  {
   "cell_type": "code",
   "execution_count": 69,
   "metadata": {},
   "outputs": [],
   "source": [
    "cat_vars.remove('emptitle')\n",
    "num_vars.append('emptype')"
   ]
  },
  {
   "cell_type": "code",
   "execution_count": 70,
   "metadata": {},
   "outputs": [
    {
     "name": "stdout",
     "output_type": "stream",
     "text": [
      "(11, 65, (169475, 81))\n"
     ]
    }
   ],
   "source": [
    "print(len(cat_vars), len(num_vars), df_2014.shape)"
   ]
  },
  {
   "cell_type": "markdown",
   "metadata": {},
   "source": [
    "### Feature 8. 'grade' - label encoding A-G -> 1-7\n",
    "\n",
    "The \"grade\" feature is pre-categorized by Lending Club based on the risk levels of loans. It is simply label-coded here from A-G to 1-7."
   ]
  },
  {
   "cell_type": "code",
   "execution_count": 71,
   "metadata": {},
   "outputs": [],
   "source": [
    "df_2014.grade = df_2014.grade.map({'A': 1, 'B': 2, 'C': 3, 'D': 4, 'E': 5, 'F': 6, 'G': 7})"
   ]
  },
  {
   "cell_type": "code",
   "execution_count": 72,
   "metadata": {},
   "outputs": [],
   "source": [
    "cat_vars.remove('grade')\n",
    "num_vars.append('grade')"
   ]
  },
  {
   "cell_type": "code",
   "execution_count": 73,
   "metadata": {},
   "outputs": [
    {
     "name": "stdout",
     "output_type": "stream",
     "text": [
      "(10, 66, (169475, 81))\n"
     ]
    }
   ],
   "source": [
    "print(len(cat_vars), len(num_vars), df_2014.shape)"
   ]
  },
  {
   "cell_type": "markdown",
   "metadata": {},
   "source": [
    "### Feature 9. 'homeownership' - leave for one-hot encoding. \n",
    "\n",
    "The home ownership feature has only three values: mortgage, rent, or own. One-hot Encoding is performed on this feature. "
   ]
  },
  {
   "cell_type": "code",
   "execution_count": 74,
   "metadata": {},
   "outputs": [],
   "source": [
    "df_2014.homeownership.replace('ANY', np.nan, inplace= True)"
   ]
  },
  {
   "cell_type": "code",
   "execution_count": 75,
   "metadata": {},
   "outputs": [],
   "source": [
    "homeownership_OHE = pd.get_dummies(df_2014['homeownership'])"
   ]
  },
  {
   "cell_type": "code",
   "execution_count": 76,
   "metadata": {},
   "outputs": [],
   "source": [
    "homeownership_OHE.columns = ['home_mort', 'home_own', 'home_rent']"
   ]
  },
  {
   "cell_type": "code",
   "execution_count": 77,
   "metadata": {},
   "outputs": [],
   "source": [
    "df_2014 = pd.merge(df_2014, homeownership_OHE, how= 'left', left_index = True, right_index= True)"
   ]
  },
  {
   "cell_type": "code",
   "execution_count": 78,
   "metadata": {},
   "outputs": [],
   "source": [
    "OHE_vars = []\n",
    "OHE_vars = OHE_vars + list(homeownership_OHE.columns)"
   ]
  },
  {
   "cell_type": "code",
   "execution_count": 79,
   "metadata": {},
   "outputs": [],
   "source": [
    "cat_vars.remove('homeownership')"
   ]
  },
  {
   "cell_type": "code",
   "execution_count": 80,
   "metadata": {},
   "outputs": [
    {
     "name": "stdout",
     "output_type": "stream",
     "text": [
      "(9, 66, 3, (169475, 84))\n"
     ]
    }
   ],
   "source": [
    "print(len(cat_vars), len(num_vars), len(OHE_vars), df_2014.shape)"
   ]
  },
  {
   "cell_type": "markdown",
   "metadata": {},
   "source": [
    "### Feature 10. 'initialliststatus' - map: W: 0, F: 1. \n",
    "\n",
    "Only two values are in this feature: 0 or 1 for W or F. "
   ]
  },
  {
   "cell_type": "code",
   "execution_count": 81,
   "metadata": {},
   "outputs": [],
   "source": [
    "# Upper case to match the current loans data. \n",
    "df_2014.initialliststatus = df_2014.initialliststatus.apply(lambda x: x.upper()) "
   ]
  },
  {
   "cell_type": "code",
   "execution_count": 82,
   "metadata": {},
   "outputs": [],
   "source": [
    "df_2014.initialliststatus = df_2014.initialliststatus.map({'W': 0, 'F': 1})"
   ]
  },
  {
   "cell_type": "code",
   "execution_count": 83,
   "metadata": {},
   "outputs": [],
   "source": [
    "cat_vars.remove('initialliststatus')\n",
    "num_vars.append('initialliststatus')"
   ]
  },
  {
   "cell_type": "code",
   "execution_count": 84,
   "metadata": {},
   "outputs": [
    {
     "name": "stdout",
     "output_type": "stream",
     "text": [
      "(8, 67, 3, (169475, 84))\n"
     ]
    }
   ],
   "source": [
    "print(len(cat_vars), len(num_vars), len(OHE_vars), df_2014.shape)"
   ]
  },
  {
   "cell_type": "markdown",
   "metadata": {},
   "source": [
    "### Feature 11. 'intrate' - change to float\n",
    "\n",
    "The feature of interest rate is intrinscally numerical. It is converted to a float number by removing the \"%\" sign. "
   ]
  },
  {
   "cell_type": "code",
   "execution_count": 85,
   "metadata": {},
   "outputs": [],
   "source": [
    "df_2014['intrate'] = df_2014.intrate.astype('str').transform(lambda x: float(x.strip('%'))/100)"
   ]
  },
  {
   "cell_type": "code",
   "execution_count": 86,
   "metadata": {},
   "outputs": [],
   "source": [
    "cat_vars.remove('intrate')\n",
    "num_vars.append('intrate')"
   ]
  },
  {
   "cell_type": "code",
   "execution_count": 87,
   "metadata": {},
   "outputs": [
    {
     "name": "stdout",
     "output_type": "stream",
     "text": [
      "(7, 68, 3, (169475, 84))\n"
     ]
    }
   ],
   "source": [
    "print(len(cat_vars), len(num_vars), len(OHE_vars), df_2014.shape)"
   ]
  },
  {
   "cell_type": "markdown",
   "metadata": {},
   "source": [
    "### Feature 12. 'isincv' - one hot encoding. \n",
    "\n",
    "Only three different values are in this feature. It is noted that the historical entries may be in lower or upper cases but the entries in the current data have only upper cases. So they are uniformed to upper cases and One-hot Encoded. "
   ]
  },
  {
   "cell_type": "code",
   "execution_count": 88,
   "metadata": {},
   "outputs": [],
   "source": [
    "df_2014.isincv.replace(['Not Verified', 'Source Verified', 'Verified'], ['NOT_VERIFIED', 'SOURCE_VERIFIED', 'VERIFIED'],\\\n",
    "                          inplace= True)"
   ]
  },
  {
   "cell_type": "code",
   "execution_count": 89,
   "metadata": {},
   "outputs": [],
   "source": [
    "isincv_OHE = pd.get_dummies(df_2014['isincv'])"
   ]
  },
  {
   "cell_type": "code",
   "execution_count": 90,
   "metadata": {},
   "outputs": [],
   "source": [
    "isincv_OHE.columns = ['isincv_nv', 'isinicv_sv', 'isincv_v']"
   ]
  },
  {
   "cell_type": "code",
   "execution_count": 91,
   "metadata": {},
   "outputs": [],
   "source": [
    "df_2014 = pd.merge(df_2014, isincv_OHE, how='left', left_index = True, right_index= True)"
   ]
  },
  {
   "cell_type": "code",
   "execution_count": 92,
   "metadata": {},
   "outputs": [],
   "source": [
    "OHE_vars = OHE_vars + list(isincv_OHE.columns)"
   ]
  },
  {
   "cell_type": "code",
   "execution_count": 93,
   "metadata": {},
   "outputs": [],
   "source": [
    "cat_vars.remove('isincv')"
   ]
  },
  {
   "cell_type": "code",
   "execution_count": 94,
   "metadata": {},
   "outputs": [
    {
     "name": "stdout",
     "output_type": "stream",
     "text": [
      "(6, 68, 6, (169475, 87))\n"
     ]
    }
   ],
   "source": [
    "print(len(cat_vars), len(num_vars), len(OHE_vars), df_2014.shape)"
   ]
  },
  {
   "cell_type": "markdown",
   "metadata": {},
   "source": [
    "### Feature 13. 'purpose' - one-hot encoding. \n",
    "\n",
    "This feature describes the purpose of loan application. It is One-hot Encoded. "
   ]
  },
  {
   "cell_type": "code",
   "execution_count": 95,
   "metadata": {},
   "outputs": [],
   "source": [
    "purpose_OHE = pd.get_dummies(df_2014.purpose)"
   ]
  },
  {
   "cell_type": "code",
   "execution_count": 96,
   "metadata": {},
   "outputs": [],
   "source": [
    "purpose_OHE.columns = ['pur_' + var for var in purpose_OHE.columns.values]"
   ]
  },
  {
   "cell_type": "code",
   "execution_count": 97,
   "metadata": {},
   "outputs": [],
   "source": [
    "df_2014 = pd.merge (df_2014, purpose_OHE, how= 'left', left_index= True, right_index= True)"
   ]
  },
  {
   "cell_type": "code",
   "execution_count": 98,
   "metadata": {},
   "outputs": [],
   "source": [
    "OHE_vars =  OHE_vars + list(purpose_OHE.columns)"
   ]
  },
  {
   "cell_type": "code",
   "execution_count": 99,
   "metadata": {},
   "outputs": [],
   "source": [
    "cat_vars.remove('purpose')"
   ]
  },
  {
   "cell_type": "code",
   "execution_count": 100,
   "metadata": {},
   "outputs": [
    {
     "name": "stdout",
     "output_type": "stream",
     "text": [
      "(5, 68, 19, (169475, 100))\n"
     ]
    }
   ],
   "source": [
    "print(len(cat_vars), len(num_vars), len(OHE_vars), df_2014.shape)"
   ]
  },
  {
   "cell_type": "markdown",
   "metadata": {},
   "source": [
    "### Feature 14. 'revolutil' - convert to float\n",
    "\n",
    "This feature indicates the utilization rate of users' revolving credit limit. It is intrinsically numeric with removal of the \"%\" sign. "
   ]
  },
  {
   "cell_type": "code",
   "execution_count": 101,
   "metadata": {},
   "outputs": [],
   "source": [
    "df_2014.revolutil = df_2014.revolutil.astype('str').transform(lambda x: float(x.strip('%'))/100)"
   ]
  },
  {
   "cell_type": "code",
   "execution_count": 102,
   "metadata": {},
   "outputs": [],
   "source": [
    "cat_vars.remove('revolutil')\n",
    "num_vars.append('revolutil')"
   ]
  },
  {
   "cell_type": "code",
   "execution_count": 103,
   "metadata": {},
   "outputs": [
    {
     "name": "stdout",
     "output_type": "stream",
     "text": [
      "(4, 69, 19, (169475, 100))\n"
     ]
    }
   ],
   "source": [
    "print(len(cat_vars), len(num_vars), len(OHE_vars), df_2014.shape)"
   ]
  },
  {
   "cell_type": "markdown",
   "metadata": {},
   "source": [
    "### Feature 15. 'subgrade' - label encoding\n",
    "\n",
    "Similar to the grade feature, this feature is ordinal and coded by label-coding. "
   ]
  },
  {
   "cell_type": "code",
   "execution_count": 104,
   "metadata": {},
   "outputs": [],
   "source": [
    "subgrd = df_2014.subgrade.sort_values().unique()"
   ]
  },
  {
   "cell_type": "code",
   "execution_count": 105,
   "metadata": {},
   "outputs": [],
   "source": [
    "df_2014.subgrade = df_2014.subgrade.map({subgrd[i]: i + 1 for i in range(len(subgrd))})"
   ]
  },
  {
   "cell_type": "code",
   "execution_count": 106,
   "metadata": {},
   "outputs": [],
   "source": [
    "cat_vars.remove('subgrade')\n",
    "num_vars.append('subgrade')"
   ]
  },
  {
   "cell_type": "code",
   "execution_count": 107,
   "metadata": {},
   "outputs": [
    {
     "name": "stdout",
     "output_type": "stream",
     "text": [
      "(3, 70, 19, (169475, 100))\n"
     ]
    }
   ],
   "source": [
    "print(len(cat_vars), len(num_vars), len(OHE_vars), df_2014.shape)"
   ]
  },
  {
   "cell_type": "markdown",
   "metadata": {},
   "source": [
    "### Feature 16. 'term' - remove 'months'\n",
    "\n",
    "Only two types are in this feature, 36 months or 60 months. They are converted to numbers. "
   ]
  },
  {
   "cell_type": "code",
   "execution_count": 108,
   "metadata": {},
   "outputs": [],
   "source": [
    "df_2014.term = df_2014.term.apply(lambda x: ''.join(d for d in x if d.isdigit()))"
   ]
  },
  {
   "cell_type": "code",
   "execution_count": 109,
   "metadata": {},
   "outputs": [],
   "source": [
    "df_2014.term = df_2014.term.astype(int)"
   ]
  },
  {
   "cell_type": "code",
   "execution_count": 110,
   "metadata": {},
   "outputs": [],
   "source": [
    "cat_vars.remove('term')\n",
    "num_vars.append('term')"
   ]
  },
  {
   "cell_type": "code",
   "execution_count": 111,
   "metadata": {},
   "outputs": [
    {
     "name": "stdout",
     "output_type": "stream",
     "text": [
      "(2, 71, 19, (169475, 100))\n"
     ]
    }
   ],
   "source": [
    "print(len(cat_vars), len(num_vars), len(OHE_vars), df_2014.shape)"
   ]
  },
  {
   "cell_type": "code",
   "execution_count": 112,
   "metadata": {},
   "outputs": [
    {
     "data": {
      "text/plain": [
       "array(['INDIVIDUAL'], dtype=object)"
      ]
     },
     "execution_count": 112,
     "metadata": {},
     "output_type": "execute_result"
    }
   ],
   "source": [
    "df_2014.applicationtype.unique()"
   ]
  },
  {
   "cell_type": "markdown",
   "metadata": {},
   "source": [
    "### Feature 17. 'issued' - convert to date - not in training set. \n",
    "\n",
    "This feature only marks the issued date of each loan, which is useful for train-test splitting, but not used in the training model. "
   ]
  },
  {
   "cell_type": "code",
   "execution_count": 113,
   "metadata": {},
   "outputs": [],
   "source": [
    "df_2014.issued = df_2014.issued.astype('str').apply(lambda x: dt.datetime.strptime(str(x), '%b-%Y'))"
   ]
  },
  {
   "cell_type": "code",
   "execution_count": 114,
   "metadata": {},
   "outputs": [],
   "source": [
    "cat_vars.remove('issued')"
   ]
  },
  {
   "cell_type": "markdown",
   "metadata": {},
   "source": [
    "### Feature 18. 'loanstatus' - Target - 'charged_off' = 1, 'fully_paid' = 0\n",
    "\n",
    "This is the target feature. 1 for \"charged off\", 0 for \"fully paid\"."
   ]
  },
  {
   "cell_type": "code",
   "execution_count": 115,
   "metadata": {},
   "outputs": [],
   "source": [
    "df_2014.loanstatus = df_2014.loanstatus.map({'Charged Off': 1, 'Default': 1, 'Fully Paid': 0})"
   ]
  },
  {
   "cell_type": "code",
   "execution_count": 116,
   "metadata": {},
   "outputs": [],
   "source": [
    "cat_vars.remove('loanstatus')"
   ]
  },
  {
   "cell_type": "code",
   "execution_count": 117,
   "metadata": {},
   "outputs": [
    {
     "name": "stdout",
     "output_type": "stream",
     "text": [
      "(0, 71, 19, (169475, 100))\n"
     ]
    }
   ],
   "source": [
    "print(len(cat_vars), len(num_vars), len(OHE_vars), df_2014.shape)"
   ]
  },
  {
   "cell_type": "markdown",
   "metadata": {},
   "source": [
    "## Feature Responses Visualization\n",
    "\n",
    "In this section, several important features are plotted with their responses of loan status. The values of each feature are assigned into different bins and the average default rates (mean of loan status) in each bin are plotted using bar plot. "
   ]
  },
  {
   "cell_type": "markdown",
   "metadata": {},
   "source": [
    "### dti - Debt to Income Ratio"
   ]
  },
  {
   "cell_type": "code",
   "execution_count": 118,
   "metadata": {},
   "outputs": [],
   "source": [
    "%matplotlib inline\n",
    "sns.set_style('darkgrid')"
   ]
  },
  {
   "cell_type": "code",
   "execution_count": 119,
   "metadata": {},
   "outputs": [],
   "source": [
    "df_2014['bin_dti'] = pd.cut(df_2014.dti, bins=5, precision=0)"
   ]
  },
  {
   "cell_type": "code",
   "execution_count": 120,
   "metadata": {},
   "outputs": [
    {
     "data": {
      "text/plain": [
       "<matplotlib.axes._subplots.AxesSubplot at 0x1444fd30>"
      ]
     },
     "execution_count": 120,
     "metadata": {},
     "output_type": "execute_result"
    },
    {
     "data": {
      "image/png": "[encoded data removed]",
      "text/plain": [
       "<matplotlib.figure.Figure at 0xdc21a90>"
      ]
     },
     "metadata": {},
     "output_type": "display_data"
    }
   ],
   "source": [
    "sns.barplot(x='bin_dti', y= 'loanstatus', data = df_2014, palette=sns.color_palette(\"YlGnBu\", 10))"
   ]
  },
  {
   "cell_type": "code",
   "execution_count": 167,
   "metadata": {},
   "outputs": [
    {
     "data": {
      "text/plain": [
       "<matplotlib.axes._subplots.AxesSubplot at 0x16580f28>"
      ]
     },
     "execution_count": 167,
     "metadata": {},
     "output_type": "execute_result"
    },
    {
     "data": {
      "image/png": "[encoded data removed]",
      "text/plain": [
       "<matplotlib.figure.Figure at 0x16bfcb38>"
      ]
     },
     "metadata": {},
     "output_type": "display_data"
    }
   ],
   "source": [
    "sns.violinplot(x='dti', data= df_2014)"
   ]
  },
  {
   "cell_type": "markdown",
   "metadata": {},
   "source": [
    "The figure above shows that the debt-to-income ratio is very related with the loan status. Higher dti leads to higher chance of default. "
   ]
  },
  {
   "cell_type": "markdown",
   "metadata": {},
   "source": [
    "### grade and subgrade"
   ]
  },
  {
   "cell_type": "code",
   "execution_count": 121,
   "metadata": {},
   "outputs": [
    {
     "data": {
      "text/plain": [
       "<matplotlib.axes._subplots.AxesSubplot at 0x14480e80>"
      ]
     },
     "execution_count": 121,
     "metadata": {},
     "output_type": "execute_result"
    },
    {
     "data": {
      "image/png": "[encoded data removed]",
      "text/plain": [
       "<matplotlib.figure.Figure at 0xe244b00>"
      ]
     },
     "metadata": {},
     "output_type": "display_data"
    }
   ],
   "source": [
    "sns.barplot(x = 'dti', y = 'loanstatus', data = df_2014)"
   ]
  },
  {
   "cell_type": "code",
   "execution_count": 122,
   "metadata": {},
   "outputs": [
    {
     "data": {
      "text/plain": [
       "<matplotlib.axes._subplots.AxesSubplot at 0x14622da0>"
      ]
     },
     "execution_count": 122,
     "metadata": {},
     "output_type": "execute_result"
    },
    {
     "data": {
      "image/png": "[encoded data removed]",
      "text/plain": [
       "<matplotlib.figure.Figure at 0x14791ef0>"
      ]
     },
     "metadata": {},
     "output_type": "display_data"
    }
   ],
   "source": [
    "sns.barplot(x = 'subgrade', y = 'loanstatus', data = df_2014)"
   ]
  },
  {
   "cell_type": "markdown",
   "metadata": {},
   "source": [
    "Grade and subgrade clearly show an increasing trend with default rate. They are good indicators of risk levels. "
   ]
  },
  {
   "cell_type": "markdown",
   "metadata": {},
   "source": [
    "### annualinc - Annual Income\n",
    "\n",
    "The distribution of annual income is very skewed based on the violin plot, so the upper range of annual income is cut from 200000, with bin size of 25000. "
   ]
  },
  {
   "cell_type": "code",
   "execution_count": 123,
   "metadata": {},
   "outputs": [],
   "source": [
    "df_2014['bin_annualinc'] = pd.cut(df_2014.annualinc, bins=[0, 25000, 50000, 75000, \\\n",
    "                                                           100000, 125000, 150000, \\\n",
    "                                                           175000, 200000, max(df_2014.annualinc)], precision=0)"
   ]
  },
  {
   "cell_type": "code",
   "execution_count": 124,
   "metadata": {},
   "outputs": [
    {
     "data": {
      "text/plain": [
       "<matplotlib.axes._subplots.AxesSubplot at 0x14c6dc18>"
      ]
     },
     "execution_count": 124,
     "metadata": {},
     "output_type": "execute_result"
    },
    {
     "data": {
      "image/png": "[encoded data removed]",
      "text/plain": [
       "<matplotlib.figure.Figure at 0x14bb7c18>"
      ]
     },
     "metadata": {},
     "output_type": "display_data"
    }
   ],
   "source": [
    "sns.violinplot(x='annualinc', data= df_2014[df_2014['annualinc'] <300000])"
   ]
  },
  {
   "cell_type": "code",
   "execution_count": 125,
   "metadata": {},
   "outputs": [
    {
     "data": {
      "text/plain": [
       "[Text(0,0,u'<25k'),\n",
       " Text(0,0,u'25-50k'),\n",
       " Text(0,0,u'50-75k'),\n",
       " Text(0,0,u'75-100k'),\n",
       " Text(0,0,u'100-125k'),\n",
       " Text(0,0,u'125-150k'),\n",
       " Text(0,0,u'150-175k'),\n",
       " Text(0,0,u'175-200k'),\n",
       " Text(0,0,u'>200k')]"
      ]
     },
     "execution_count": 125,
     "metadata": {},
     "output_type": "execute_result"
    },
    {
     "data": {
      "image/png": "[encoded data removed]",
      "text/plain": [
       "<matplotlib.figure.Figure at 0x14437be0>"
      ]
     },
     "metadata": {},
     "output_type": "display_data"
    }
   ],
   "source": [
    "fig = sns.barplot(x='bin_annualinc', y= 'loanstatus', data = df_2014, palette=sns.color_palette(\"YlGnBu\", 10))\n",
    "fig.set_xticklabels(labels=['<25k', '25-50k', '50-75k', '75-100k', '100-125k', '125-150k',\\\n",
    "                            '150-175k', '175-200k', '>200k'], rotation = 30)"
   ]
  },
  {
   "cell_type": "markdown",
   "metadata": {},
   "source": [
    "The fitures show that the higher annual income, the lower chance of default. "
   ]
  },
  {
   "cell_type": "markdown",
   "metadata": {},
   "source": [
    "### Intrate - Interest Rate"
   ]
  },
  {
   "cell_type": "code",
   "execution_count": 126,
   "metadata": {},
   "outputs": [],
   "source": [
    "df_2014['bin_intrate'] = pd.cut(df_2014.intrate, bins=5, precision=2)"
   ]
  },
  {
   "cell_type": "code",
   "execution_count": 127,
   "metadata": {},
   "outputs": [
    {
     "data": {
      "image/png": "[encoded data removed]",
      "text/plain": [
       "<matplotlib.figure.Figure at 0x14bce978>"
      ]
     },
     "metadata": {},
     "output_type": "display_data"
    }
   ],
   "source": [
    "fig = sns.barplot(x='bin_intrate', y= 'loanstatus', data = df_2014, palette=sns.color_palette(\"YlGnBu\", 5))"
   ]
  },
  {
   "cell_type": "code",
   "execution_count": 168,
   "metadata": {},
   "outputs": [
    {
     "data": {
      "text/plain": [
       "<matplotlib.axes._subplots.AxesSubplot at 0x16d05a20>"
      ]
     },
     "execution_count": 168,
     "metadata": {},
     "output_type": "execute_result"
    },
    {
     "data": {
      "image/png": "[encoded data removed]",
      "text/plain": [
       "<matplotlib.figure.Figure at 0x16d1e358>"
      ]
     },
     "metadata": {},
     "output_type": "display_data"
    }
   ],
   "source": [
    "sns.violinplot(x='intrate', data= df_2014)"
   ]
  },
  {
   "cell_type": "markdown",
   "metadata": {},
   "source": [
    "The Interest Rate clearly shows a positive linear relationship with default rate. "
   ]
  },
  {
   "cell_type": "markdown",
   "metadata": {},
   "source": [
    "### Installment"
   ]
  },
  {
   "cell_type": "code",
   "execution_count": 128,
   "metadata": {},
   "outputs": [],
   "source": [
    "df_2014['bin_installment'] = pd.cut(df_2014.installment, bins=5, precision=2)"
   ]
  },
  {
   "cell_type": "code",
   "execution_count": 129,
   "metadata": {},
   "outputs": [
    {
     "data": {
      "text/plain": [
       "(array([0, 1, 2, 3, 4]), <a list of 5 Text xticklabel objects>)"
      ]
     },
     "execution_count": 129,
     "metadata": {},
     "output_type": "execute_result"
    },
    {
     "data": {
      "image/png": "[encoded data removed]",
      "text/plain": [
       "<matplotlib.figure.Figure at 0x14fbc780>"
      ]
     },
     "metadata": {},
     "output_type": "display_data"
    }
   ],
   "source": [
    "fig = sns.barplot(x='bin_installment', y= 'loanstatus', data = df_2014, palette=sns.color_palette(\"YlGnBu\", 5))\n",
    "plt.xticks(rotation = 30)"
   ]
  },
  {
   "cell_type": "code",
   "execution_count": 169,
   "metadata": {},
   "outputs": [
    {
     "data": {
      "text/plain": [
       "<matplotlib.axes._subplots.AxesSubplot at 0x15796128>"
      ]
     },
     "execution_count": 169,
     "metadata": {},
     "output_type": "execute_result"
    },
    {
     "data": {
      "image/png": "[encoded data removed]",
      "text/plain": [
       "<matplotlib.figure.Figure at 0x16e92940>"
      ]
     },
     "metadata": {},
     "output_type": "display_data"
    }
   ],
   "source": [
    "sns.violinplot(x='installment', data= df_2014)"
   ]
  },
  {
   "cell_type": "markdown",
   "metadata": {},
   "source": [
    "The installment amount may have a parabolic relationship with the default rate. "
   ]
  },
  {
   "cell_type": "markdown",
   "metadata": {},
   "source": [
    "### bcutil - Ration of total current loan balance to bank card credit limit (Portion of Balance)"
   ]
  },
  {
   "cell_type": "code",
   "execution_count": 130,
   "metadata": {
    "scrolled": true
   },
   "outputs": [
    {
     "data": {
      "text/plain": [
       "<matplotlib.axes._subplots.AxesSubplot at 0x15222a90>"
      ]
     },
     "execution_count": 130,
     "metadata": {},
     "output_type": "execute_result"
    },
    {
     "data": {
      "image/png": "[encoded data removed]",
      "text/plain": [
       "<matplotlib.figure.Figure at 0x15092278>"
      ]
     },
     "metadata": {},
     "output_type": "display_data"
    }
   ],
   "source": [
    "sns.violinplot(x='bcutil', data= df_2014)"
   ]
  },
  {
   "cell_type": "markdown",
   "metadata": {},
   "source": [
    "The distribution of the Portion of Balance is also very skewed. A interesting finding from this figure is that most of the borrowers on Lending Clube have used almost > 90% of their credit limit. So Lending Club may be dealing with highly risky borrowers that may not be able to borrow from banks. There are a small amount of borrowers with loan balance > 3 times of credit limit. These may mark even higher risk of default. "
   ]
  },
  {
   "cell_type": "code",
   "execution_count": 131,
   "metadata": {},
   "outputs": [],
   "source": [
    "df_2014['bin_bcutil'] = pd.cut(df_2014.bcutil, bins=[0, 20, 40, 60, \\\n",
    "                                                           80, 100, 120, \\\n",
    "                                                           max(df_2014.bcutil)], precision=0)"
   ]
  },
  {
   "cell_type": "code",
   "execution_count": null,
   "metadata": {},
   "outputs": [],
   "source": []
  },
  {
   "cell_type": "markdown",
   "metadata": {},
   "source": [
    "It is not surprising to see an increasing trend of default rate vs. Portion of Balance. The variance of default rate also increase with higher Portion of Balance. "
   ]
  },
  {
   "cell_type": "markdown",
   "metadata": {},
   "source": [
    "### Credit History"
   ]
  },
  {
   "cell_type": "code",
   "execution_count": 132,
   "metadata": {},
   "outputs": [],
   "source": [
    "df_2014['bin_credit_hist'] = pd.cut(df_2014.credit_hist, bins=5, precision=0)"
   ]
  },
  {
   "cell_type": "code",
   "execution_count": 133,
   "metadata": {},
   "outputs": [
    {
     "data": {
      "text/plain": [
       "<matplotlib.axes._subplots.AxesSubplot at 0x154b1b38>"
      ]
     },
     "execution_count": 133,
     "metadata": {},
     "output_type": "execute_result"
    },
    {
     "data": {
      "image/png": "[encoded data removed]",
      "text/plain": [
       "<matplotlib.figure.Figure at 0x154085c0>"
      ]
     },
     "metadata": {},
     "output_type": "display_data"
    }
   ],
   "source": [
    "sns.violinplot(x='credit_hist', data= df_2014)\n"
   ]
  },
  {
   "cell_type": "code",
   "execution_count": 134,
   "metadata": {},
   "outputs": [
    {
     "data": {
      "text/plain": [
       "(1863.0, 6843.0]      97456\n",
       "(6843.0, 11798.0]     62096\n",
       "(11798.0, 16754.0]     9150\n",
       "(16754.0, 21709.0]      759\n",
       "(21709.0, 26664.0]       14\n",
       "Name: bin_credit_hist, dtype: int64"
      ]
     },
     "execution_count": 134,
     "metadata": {},
     "output_type": "execute_result"
    }
   ],
   "source": [
    "df_2014.bin_credit_hist.value_counts()"
   ]
  },
  {
   "cell_type": "code",
   "execution_count": 135,
   "metadata": {},
   "outputs": [
    {
     "data": {
      "text/plain": [
       "[Text(0,0,u'<20%'),\n",
       " Text(0,0,u'20-40%'),\n",
       " Text(0,0,u'40-60%'),\n",
       " Text(0,0,u'60-80%'),\n",
       " Text(0,0,u'80-100%')]"
      ]
     },
     "execution_count": 135,
     "metadata": {},
     "output_type": "execute_result"
    },
    {
     "data": {
      "image/png": "[encoded data removed]",
      "text/plain": [
       "<matplotlib.figure.Figure at 0x15425320>"
      ]
     },
     "metadata": {},
     "output_type": "display_data"
    }
   ],
   "source": [
    "fig = sns.barplot(x='bin_credit_hist', y= 'loanstatus', data = df_2014, palette=sns.color_palette(\"YlGnBu\", 10))\n",
    "fig.set_xticklabels(labels=['<20%', '20-40%', '40-60%', '60-80%', '80-100%', '100-120%', '>120%'])"
   ]
  },
  {
   "cell_type": "code",
   "execution_count": 136,
   "metadata": {},
   "outputs": [
    {
     "data": {
      "text/plain": [
       "(array([0, 1, 2, 3, 4]), <a list of 5 Text xticklabel objects>)"
      ]
     },
     "execution_count": 136,
     "metadata": {},
     "output_type": "execute_result"
    },
    {
     "data": {
      "image/png": "[encoded data removed]",
      "text/plain": [
       "<matplotlib.figure.Figure at 0x14c3d8d0>"
      ]
     },
     "metadata": {},
     "output_type": "display_data"
    }
   ],
   "source": [
    "fig = sns.barplot(x='bin_credit_hist', y= 'loanstatus', data = df_2014, palette=sns.color_palette(\"YlGnBu\", 5))\n",
    "plt.xticks(rotation = 30)"
   ]
  },
  {
   "cell_type": "markdown",
   "metadata": {},
   "source": [
    "No apparent trend is seen between credit history and default rate, although the variation seems to increase with longer credit history. "
   ]
  },
  {
   "cell_type": "markdown",
   "metadata": {},
   "source": [
    "# XGBoost Model Building\n",
    "\n",
    "[[go back to the top]](#TABLE-OF-CONTENTS)"
   ]
  },
  {
   "cell_type": "markdown",
   "metadata": {},
   "source": [
    "## Train/Test Splitting"
   ]
  },
  {
   "cell_type": "markdown",
   "metadata": {},
   "source": [
    "Because this model uses historic data to predict future performances, when spliting the train/test datasets, the historic 2014 loan data are splitted into two parts chronologically: Dec/Nov/Oct data as the test set, and Jan - Sep as the train set. "
   ]
  },
  {
   "cell_type": "code",
   "execution_count": 137,
   "metadata": {},
   "outputs": [],
   "source": [
    "num_vars.remove('id')"
   ]
  },
  {
   "cell_type": "code",
   "execution_count": 138,
   "metadata": {},
   "outputs": [],
   "source": [
    "train_vars = num_vars + OHE_vars"
   ]
  },
  {
   "cell_type": "code",
   "execution_count": 139,
   "metadata": {},
   "outputs": [],
   "source": [
    "df_train = df_2014[train_vars + ['loanstatus']][df_2014.issued < dt.date(2014, 10, 1)]\n",
    "df_test = df_2014[train_vars + ['loanstatus']][df_2014.issued >= dt.date(2014, 10, 1)]"
   ]
  },
  {
   "cell_type": "code",
   "execution_count": 140,
   "metadata": {
    "scrolled": true
   },
   "outputs": [
    {
     "data": {
      "text/plain": [
       "(169475, 106)"
      ]
     },
     "execution_count": 140,
     "metadata": {},
     "output_type": "execute_result"
    }
   ],
   "source": [
    "df_2014.shape"
   ]
  },
  {
   "cell_type": "markdown",
   "metadata": {},
   "source": [
    "## Parameter Auto-tuning\n",
    "\n",
    "In this section both packages of XGBoost and BayesianOptimization are used. XGBoost is the model buiding algorithm. There are a number of parameters used in XGBoost, of which 5 parameters are of greater importance and given fine tuning. The parameter tuning is conducted with the Bayesian Optimization algorithm. \n",
    "\n",
    "Bayesian Optmization is a constrained global optimization package built upon bayesian inference and gaussian process. It attempts to find the maximum value of an unknown function based on a few starting points, in as few iterations as possible. This technique is particularly suited for optimization of high cost functions. In this case the target function is the cross-validation score from XGBoost models. The function is defined as \"xgb_evaluate\", where the output of this function is the best cross-validation score for each set of parameters. The cross-validation uses \"auc\" (area under the ROC curve) as the scoring mectrics. The early stop callback is set at 50, meaning that if no improvement of score after 50 interations, the procedure is stopped. \n",
    "\n",
    "The Bayesian Optimization process then maximizes the target function based on 8 initial points and interate 40 times to yield the best set of parameters leading to the highst \"auc\" scores. "
   ]
  },
  {
   "cell_type": "code",
   "execution_count": 141,
   "metadata": {},
   "outputs": [
    {
     "name": "stdout",
     "output_type": "stream",
     "text": [
      "Requirement already satisfied: bayesian-optimization in c:\\programdata\\anaconda2\\lib\\site-packages\n",
      "Requirement already satisfied: scipy>=0.14.0 in c:\\programdata\\anaconda2\\lib\\site-packages (from bayesian-optimization)\n",
      "Requirement already satisfied: numpy>=1.9.0 in c:\\programdata\\anaconda2\\lib\\site-packages (from bayesian-optimization)\n",
      "Requirement already satisfied: scikit-learn>=0.18.0 in c:\\programdata\\anaconda2\\lib\\site-packages (from bayesian-optimization)\n"
     ]
    },
    {
     "name": "stderr",
     "output_type": "stream",
     "text": [
      "You are using pip version 9.0.1, however version 10.0.1 is available.\n",
      "You should consider upgrading via the 'python -m pip install --upgrade pip' command.\n"
     ]
    }
   ],
   "source": [
    "!pip install bayesian-optimization"
   ]
  },
  {
   "cell_type": "code",
   "execution_count": 142,
   "metadata": {},
   "outputs": [
    {
     "name": "stderr",
     "output_type": "stream",
     "text": [
      "C:\\ProgramData\\Anaconda2\\lib\\site-packages\\sklearn\\cross_validation.py:41: DeprecationWarning: This module was deprecated in version 0.18 in favor of the model_selection module into which all the refactored classes and functions are moved. Also note that the interface of the new CV iterators are different from that of this module. This module will be removed in 0.20.\n",
      "  \"This module will be removed in 0.20.\", DeprecationWarning)\n"
     ]
    }
   ],
   "source": [
    "import xgboost as xgb\n",
    "from bayes_opt import BayesianOptimization\n",
    "from sklearn import metrics, preprocessing, cross_validation"
   ]
  },
  {
   "cell_type": "code",
   "execution_count": 143,
   "metadata": {},
   "outputs": [],
   "source": [
    "x_train = df_train[train_vars]\n",
    "y_train = df_train['loanstatus']\n",
    "x_test = df_test[train_vars]\n",
    "y_test = df_test['loanstatus']"
   ]
  },
  {
   "cell_type": "code",
   "execution_count": 144,
   "metadata": {},
   "outputs": [
    {
     "data": {
      "text/plain": [
       "((127364, 89), (127364L,), (42111, 89), (42111L,))"
      ]
     },
     "execution_count": 144,
     "metadata": {},
     "output_type": "execute_result"
    }
   ],
   "source": [
    "x_train.shape, y_train.shape, x_test.shape, y_test.shape"
   ]
  },
  {
   "cell_type": "code",
   "execution_count": 145,
   "metadata": {},
   "outputs": [],
   "source": [
    "from sklearn.cross_validation import StratifiedKFold\n",
    "from sklearn.cross_validation import train_test_split"
   ]
  },
  {
   "cell_type": "code",
   "execution_count": 146,
   "metadata": {},
   "outputs": [],
   "source": [
    "x_t, x_cv, y_t, y_cv = train_test_split(x_train, y_train, test_size = 0.3, \\\n",
    "                                    random_state = 1234, stratify = y_train)"
   ]
  },
  {
   "cell_type": "code",
   "execution_count": 147,
   "metadata": {},
   "outputs": [
    {
     "data": {
      "text/plain": [
       "((89154, 89), (38210, 89), (89154L,), (38210L,))"
      ]
     },
     "execution_count": 147,
     "metadata": {},
     "output_type": "execute_result"
    }
   ],
   "source": [
    "x_t.shape, x_cv.shape, y_t.shape, y_cv.shape"
   ]
  },
  {
   "cell_type": "code",
   "execution_count": 148,
   "metadata": {},
   "outputs": [],
   "source": [
    "x_train_xgb = xgb.DMatrix(x_t, missing= np.nan)\n",
    "x_cv_xgb = xgb.DMatrix(x_cv, missing= np.nan)\n",
    "x_test_xgb = xgb.DMatrix(x_test, missing= np.nan)"
   ]
  },
  {
   "cell_type": "code",
   "execution_count": 149,
   "metadata": {},
   "outputs": [],
   "source": [
    "basic_params = {\n",
    "    'objective': 'binary:logistic',\n",
    "    'eta': 0.1, \n",
    "    'max_depth': 3, \n",
    "    'min_child_weight': 10,\n",
    "    'colsample_bytree': 0.6, \n",
    "    'subsample': 0.6,\n",
    "    'seed': 1234} \n",
    "num_round = 500"
   ]
  },
  {
   "cell_type": "code",
   "execution_count": 157,
   "metadata": {},
   "outputs": [],
   "source": [
    "df_train_xgb = xgb.DMatrix(x_train, y_train, missing= np.nan)\n",
    "dtest = xgb.DMatrix(x_test, missing= np.nan)"
   ]
  },
  {
   "cell_type": "code",
   "execution_count": 160,
   "metadata": {},
   "outputs": [],
   "source": [
    "basic_xgb = xgb.train(basic_params, \n",
    "                   df_train_xgb, \n",
    "                   num_round)"
   ]
  },
  {
   "cell_type": "code",
   "execution_count": null,
   "metadata": {},
   "outputs": [],
   "source": []
  },
  {
   "cell_type": "code",
   "execution_count": null,
   "metadata": {},
   "outputs": [],
   "source": []
  },
  {
   "cell_type": "code",
   "execution_count": null,
   "metadata": {},
   "outputs": [],
   "source": []
  },
  {
   "cell_type": "code",
   "execution_count": null,
   "metadata": {},
   "outputs": [],
   "source": []
  },
  {
   "cell_type": "code",
   "execution_count": 165,
   "metadata": {},
   "outputs": [],
   "source": [
    "from sklearn.metrics import roc_curve, auc\n",
    "from sklearn import linear_model, datasets\n",
    "\n",
    "def draw_ROC(model, traindata, cvdata, testdata, trainy, cvy, testy):\n",
    "    prob_0 = model.predict(traindata)\n",
    "    prob_1 = model.predict(cvdata)\n",
    "    prob_2 = model.predict(testdata)\n",
    "    fpr_0, tpr_0, thresholds_0 = roc_curve(trainy, prob_0)\n",
    "    fpr_1, tpr_1, thresholds_1 = roc_curve(cvy, prob_1)\n",
    "    fpr_2, tpr_2, thresholds_2 = roc_curve(testy, prob_2)\n",
    "    roc_auc_0 = auc(fpr_0, tpr_0)\n",
    "    roc_auc_1 = auc(fpr_1, tpr_1)\n",
    "    roc_auc_2 = auc(fpr_2, tpr_2)\n",
    "    \n",
    "    print (\"Area under the ROC Curve - Train: %f\" %(roc_auc_0))\n",
    "    print (\"Area under the ROC Curve - Validation: %f\" % (roc_auc_1))\n",
    "    print (\"Area under the ROC Curve - Test: %f\" % (roc_auc_2))\n",
    " \n",
    "    \n",
    "    #Plot ROC Curve\n",
    "    plt.figure(figsize = (8,8))\n",
    "    plt.plot(fpr_0, tpr_0, label = 'ROC Curve - Train (AUC = %0.2f)' % (roc_auc_0), color= 'r')\n",
    "    plt.plot(fpr_1, tpr_1, label = 'ROC Curve - Validation (AUC = %0.2f)' % (roc_auc_1), color= 'b')\n",
    "    plt.plot(fpr_2, tpr_2, label = 'ROC Curve - Test (AUC = %0.2f)' % (roc_auc_2), color= 'g')\n",
    "    plt.plot([0,1], [0, 1], 'k--')\n",
    "    plt.xlim([0.0, 1.0])\n",
    "    plt.ylim([0.0, 1.0])\n",
    "    plt.xlabel('False Positive Rate')\n",
    "    plt.ylabel('True Positive Rate')\n",
    "    plt.title('ROC for lead score model')\n",
    "    plt.legend(loc='lower right')\n",
    "    plt.show()\n",
    "    "
   ]
  },
  {
   "cell_type": "code",
   "execution_count": 166,
   "metadata": {},
   "outputs": [
    {
     "name": "stdout",
     "output_type": "stream",
     "text": [
      "Area under the ROC Curve - Train: 0.762395\n",
      "Area under the ROC Curve - Validation: 0.767196\n",
      "Area under the ROC Curve - Test: 0.719319\n"
     ]
    },
    {
     "data": {
      "image/png": "[encoded data removed]",
      "text/plain": [
       "<matplotlib.figure.Figure at 0x165988d0>"
      ]
     },
     "metadata": {},
     "output_type": "display_data"
    }
   ],
   "source": [
    "draw_ROC(basic_xgb, x_train_xgb, x_cv_xgb, dtest, y_t, y_cv, y_test)"
   ]
  },
  {
   "cell_type": "code",
   "execution_count": null,
   "metadata": {},
   "outputs": [],
   "source": []
  },
  {
   "cell_type": "code",
   "execution_count": null,
   "metadata": {},
   "outputs": [],
   "source": []
  },
  {
   "cell_type": "code",
   "execution_count": null,
   "metadata": {},
   "outputs": [],
   "source": []
  },
  {
   "cell_type": "code",
   "execution_count": null,
   "metadata": {},
   "outputs": [],
   "source": []
  },
  {
   "cell_type": "code",
   "execution_count": null,
   "metadata": {},
   "outputs": [],
   "source": []
  },
  {
   "cell_type": "code",
   "execution_count": null,
   "metadata": {},
   "outputs": [],
   "source": [
    "dtrain = xgb.DMatrix(x_train, y_train, missing= np.nan)\n",
    "dtest = xgb.DMatrix(x_test, missing= np.nan)"
   ]
  },
  {
   "cell_type": "code",
   "execution_count": null,
   "metadata": {},
   "outputs": [],
   "source": [
    "def xgb_evaluate(min_child_weight,\n",
    "                 colsample_bytree,\n",
    "                 max_depth,\n",
    "                 subsample,\n",
    "                 gamma):\n",
    "    params = dict()\n",
    "    params['objective'] = 'binary:logistic'\n",
    "    params['eta'] = 0.1\n",
    "    params['max_depth'] = int(max_depth)   \n",
    "    params['min_child_weight'] = int(min_child_weight)\n",
    "    params['colsample_bytree'] = colsample_bytree\n",
    "    params['subsample'] = subsample\n",
    "    params['gamma'] = gamma\n",
    "    params['verbose_eval'] = True    \n",
    "\n",
    "\n",
    "    cv_result = xgb.cv(params, dtrain,\n",
    "                       num_boost_round=15000,\n",
    "                       nfold=5,\n",
    "                       metrics={'auc'},\n",
    "                       seed=1234,\n",
    "                       stratified=True,\n",
    "                       callbacks=[xgb.callback.early_stop(50)])\n",
    "\n",
    "    return cv_result['test-auc-mean'].max()"
   ]
  },
  {
   "cell_type": "code",
   "execution_count": null,
   "metadata": {},
   "outputs": [],
   "source": [
    "xgb_BO = BayesianOptimization(xgb_evaluate, \n",
    "                             {'max_depth': (3, 10),\n",
    "                              'min_child_weight': (0, 100),\n",
    "                              'colsample_bytree': (0.5, 1),\n",
    "                              'subsample': (0.5, 1),\n",
    "                              'gamma': (0, 2)\n",
    "                             }\n",
    "                            )"
   ]
  },
  {
   "cell_type": "code",
   "execution_count": null,
   "metadata": {},
   "outputs": [],
   "source": [
    "%%time\n",
    "xgb_BO.maximize(init_points=8, n_iter=40)"
   ]
  },
  {
   "cell_type": "code",
   "execution_count": null,
   "metadata": {
    "scrolled": false
   },
   "outputs": [],
   "source": [
    "BO_scores = pd.DataFrame(xgb_BO.res['all']['params'])\n",
    "BO_scores['score'] = pd.DataFrame(xgb_BO.res['all']['values'])\n",
    "BO_scores = BO_scores.sort_values(by='score',ascending=False).reset_index()\n",
    "BO_scores.head()"
   ]
  },
  {
   "cell_type": "markdown",
   "metadata": {},
   "source": [
    "## Find Best Parameters\n",
    "\n",
    "The resulted parameters are sorted in a descending order of their corresponding scores. The best parameters yield an AUC score of 0.733219. The best parameters are then input to the cross-validation function to find the best interation.\n",
    "\n",
    "* 'max_depth': 3, \n",
    "* 'min_child_weight': 62, \n",
    "* 'colsample_bytree': 0.5123, \n",
    "* 'subsample': 0.9262, \n",
    "* 'gamma': 0.093932, \n",
    "* 'objective': 'binary:logistic', \n",
    "* 'eta': 0.02, \n",
    "* 'seed': 1234"
   ]
  },
  {
   "cell_type": "code",
   "execution_count": null,
   "metadata": {
    "scrolled": true
   },
   "outputs": [],
   "source": [
    "best_params = dict()\n",
    "\n",
    "best_params['max_depth'] = int(BO_scores['max_depth'][0])\n",
    "best_params['min_child_weight'] = int(BO_scores['min_child_weight'][0])\n",
    "best_params['colsample_bytree'] = BO_scores['colsample_bytree'][0]\n",
    "best_params['subsample'] = BO_scores['subsample'][0]\n",
    "best_params['gamma'] = BO_scores['gamma'][0]\n",
    "\n",
    "best_params['objective'] = 'binary:logistic'\n",
    "best_params['eta'] = 0.02\n",
    "best_params['seed'] = 1234"
   ]
  },
  {
   "cell_type": "code",
   "execution_count": null,
   "metadata": {},
   "outputs": [],
   "source": [
    "best_params"
   ]
  },
  {
   "cell_type": "code",
   "execution_count": null,
   "metadata": {},
   "outputs": [],
   "source": [
    "cv_result = xgb.cv(best_params, dtrain,\n",
    "                   num_boost_round=15000,\n",
    "                   nfold=5,\n",
    "                   metrics={'auc'},\n",
    "                   seed=1234,\n",
    "                   stratified=True,\n",
    "                   callbacks=[xgb.callback.early_stop(200)],\n",
    "                   verbose_eval=50)\n",
    "\n",
    "\n",
    "best_iteration = len(cv_result)\n",
    "best_score = cv_result['test-auc-mean'].max()\n",
    "print(\"Best score %f, best iteration %d\" % (best_score,best_iteration) )"
   ]
  },
  {
   "cell_type": "markdown",
   "metadata": {},
   "source": [
    "Through cross-validation, the best iteration is found to be 2443, and the corresponding best AUC score is 0.7338. The XGBoost model is then trained on the training set, based on the best parameters and iteration.  "
   ]
  },
  {
   "cell_type": "code",
   "execution_count": null,
   "metadata": {},
   "outputs": [],
   "source": [
    "gbm = xgb.train(best_params, dtrain, num_boost_round=best_iteration)"
   ]
  },
  {
   "cell_type": "markdown",
   "metadata": {},
   "source": [
    "# Model Integration\n",
    "\n",
    "[[go back to the top]](#TABLE-OF-CONTENTS)\n",
    "\n",
    "## Pickle Model (gbm) and Feature. \n",
    "\n",
    "The trained XGBoost model object \"gbm\" here is saved into a pickle file named \"model.pkl\". A input file containing an example dataset is saved into a pickle file named \"feature.pkl\". Both model.pkl and feature.pkl are saved into a web-application framework build with Flask. Running the Flask framework results in a web application interface which allow users to adjust important parameters of a loan and get a predicted default rate. As pictured below. \n",
    "![Fintech Web Application Interface](Fintech.png)"
   ]
  },
  {
   "cell_type": "code",
   "execution_count": null,
   "metadata": {},
   "outputs": [],
   "source": [
    "import pickle"
   ]
  },
  {
   "cell_type": "code",
   "execution_count": null,
   "metadata": {},
   "outputs": [],
   "source": [
    "with open('model.pkl', 'wb') as outfile:\n",
    "    pickle.dump(gbm, outfile)"
   ]
  },
  {
   "cell_type": "markdown",
   "metadata": {},
   "source": [
    "The example dataset in the feature.pkl file uses the average of x_test as the default values for all features. "
   ]
  },
  {
   "cell_type": "code",
   "execution_count": null,
   "metadata": {},
   "outputs": [],
   "source": [
    "feature = pd.DataFrame(index = [0],columns= x_test.columns)"
   ]
  },
  {
   "cell_type": "code",
   "execution_count": null,
   "metadata": {},
   "outputs": [],
   "source": [
    "for i in x_test[num_vars].columns:\n",
    "    if x_test.loc[:, i].dtypes == 'float64':\n",
    "        feature[i] = round(x_test.loc[:, i].mean(), 2)\n",
    "    else:\n",
    "        feature[i] = int(round(x_test.loc[:, i].mean()))"
   ]
  },
  {
   "cell_type": "code",
   "execution_count": null,
   "metadata": {},
   "outputs": [],
   "source": [
    "feature[OHE_vars] = 0\n",
    "feature[OHE_vars] = feature[OHE_vars].astype('int')"
   ]
  },
  {
   "cell_type": "code",
   "execution_count": null,
   "metadata": {},
   "outputs": [],
   "source": [
    "feature['home_mort'] = 1\n",
    "feature['pur_debt_consolidation'] = 1\n",
    "feature['isincv_nv'] = 1"
   ]
  },
  {
   "cell_type": "code",
   "execution_count": null,
   "metadata": {},
   "outputs": [],
   "source": [
    "with open('feature.pkl', 'wb') as outfile:\n",
    "    pickle.dump(feature, outfile)"
   ]
  },
  {
   "cell_type": "markdown",
   "metadata": {},
   "source": [
    "# Model Evaluation\n",
    "\n",
    "[[go back to the top]](#TABLE-OF-CONTENTS)\n",
    "\n",
    "## Feature Importance\n",
    "\n",
    "The importance of features is generated based on the feature importance scores from the XGBoost model. From the table and plot below it is found that the top 10 important features include Annual Income, Debt to Income Ratio, Interest Rate, Portion of Balance, and so on. Generally the important features match the trend observed in the [Feature Responses Visualization](#Feature-Responses-Visualization).   "
   ]
  },
  {
   "cell_type": "code",
   "execution_count": null,
   "metadata": {},
   "outputs": [],
   "source": [
    "importance = gbm.get_fscore()\n",
    "df_importance = pd.DataFrame(list(importance.items()), columns = ['feature', 'fscore'])\n",
    "df_importance['fscore'] = df_importance['fscore']/df_importance['fscore'].sum()\n",
    "df_importance.sort_values(['fscore'], ascending= False, inplace= True)"
   ]
  },
  {
   "cell_type": "code",
   "execution_count": null,
   "metadata": {},
   "outputs": [],
   "source": [
    "df_importance.head(10)"
   ]
  },
  {
   "cell_type": "code",
   "execution_count": null,
   "metadata": {},
   "outputs": [],
   "source": [
    "df_importance[:10].sort_values(by='fscore').plot(kind = 'barh', x = 'feature', y = 'fscore', legend= False, figsize=(6,8) )\n",
    "plt.xlabel('Relative Importance', fontsize = 16)\n",
    "plt.ylabel('Feature Name', fontsize = 16)\n",
    "plt.tick_params(labelsize = 14)"
   ]
  },
  {
   "cell_type": "markdown",
   "metadata": {},
   "source": [
    "## Testing Set Scores\n",
    "\n",
    "The trained model is then used to predict the default rates in the testing dateset. The predicted default rate on the test set is about 0.2055, very close to the average default rate of around 0.20. The result of model performance is visualized via the ROC curve. The AUC scores on the training and validation sets are about 0.76, and the AUC score on the testing set is about 0.72. "
   ]
  },
  {
   "cell_type": "code",
   "execution_count": null,
   "metadata": {},
   "outputs": [],
   "source": [
    "y_pred = gbm.predict(dtest)"
   ]
  },
  {
   "cell_type": "code",
   "execution_count": null,
   "metadata": {},
   "outputs": [],
   "source": [
    "y_pred.mean(), y_pred.max(), y_pred.min()"
   ]
  },
  {
   "cell_type": "code",
   "execution_count": null,
   "metadata": {},
   "outputs": [],
   "source": [
    "df_2014.loanstatus.mean()"
   ]
  },
  {
   "cell_type": "markdown",
   "metadata": {},
   "source": [
    "#### Train/Test Split in x_train"
   ]
  },
  {
   "cell_type": "code",
   "execution_count": null,
   "metadata": {},
   "outputs": [],
   "source": [
    "from sklearn.cross_validation import StratifiedKFold\n",
    "from sklearn.cross_validation import train_test_split"
   ]
  },
  {
   "cell_type": "code",
   "execution_count": null,
   "metadata": {},
   "outputs": [],
   "source": [
    "x_t, x_cv, y_t, y_cv = train_test_split(x_train, y_train, test_size = 0.3, \\\n",
    "                                    random_state = 1234, stratify = y_train)"
   ]
  },
  {
   "cell_type": "markdown",
   "metadata": {},
   "source": [
    "## Plot ROC-AUC"
   ]
  },
  {
   "cell_type": "code",
   "execution_count": null,
   "metadata": {},
   "outputs": [],
   "source": [
    "from sklearn.metrics import roc_curve, auc\n",
    "from sklearn import linear_model, datasets"
   ]
  },
  {
   "cell_type": "code",
   "execution_count": null,
   "metadata": {},
   "outputs": [],
   "source": [
    "type(y_t)"
   ]
  },
  {
   "cell_type": "code",
   "execution_count": null,
   "metadata": {},
   "outputs": [],
   "source": [
    "def draw_ROC (model, traindata, cvdata, testdata, trainy, cvy, testy):\n",
    "    prob_0 = model.predict(traindata)\n",
    "    prob_1 = model.predict(cvdata)\n",
    "    prob_2 = model.predict(testdata)\n",
    "    fpr_0, tpr_0, thresholds_0 = roc_curve(trainy, prob_0)\n",
    "    fpr_1, tpr_1, thresholds_1 = roc_curve(cvy, prob_1)\n",
    "    fpr_2, tpr_2, thresholds_2 = roc_curve(testy, prob_2)\n",
    "    roc_auc_0 = auc(fpr_0, tpr_0)\n",
    "    roc_auc_1 = auc(fpr_1, tpr_1)\n",
    "    roc_auc_2 = auc(fpr_2, tpr_2)\n",
    "    \n",
    "    print (\"Area under the ROC Curve - Train: %f\" %(roc_auc_0))\n",
    "    print (\"Area under the ROC Curve - Validation: %f\" % (roc_auc_1))\n",
    "    print (\"Area under the ROC Curve - Test: %f\" % (roc_auc_2))\n",
    "    \n",
    "    Youdens_0 = tpr_0 - fpr_0\n",
    "    Youdens_1 = tpr_1 - fpr_1\n",
    "    Youdens_2 = tpr_2 - fpr_2\n",
    "    \n",
    "    #Plot ROC Curve\n",
    "    plt.figure(figsize = (8,8))\n",
    "    plt.plot(fpr_0, tpr_0, label = 'ROC Curve - Train (AUC = %0.2f)' % (roc_auc_0), color= 'r')\n",
    "    plt.plot(fpr_1, tpr_1, label = 'ROC Curve - Validation (AUC = %0.2f)' % (roc_auc_1), color= 'b')\n",
    "    plt.plot(fpr_2, tpr_2, label = 'ROC Curve - Test (AUC = %0.2f)' % (roc_auc_2), color= 'g')\n",
    "    plt.plot([0,1], [0, 1], 'k--')\n",
    "    plt.xlim([0.0, 1.0])\n",
    "    plt.ylim([0.0, 1.0])\n",
    "    plt.xlabel('False Positive Rate')\n",
    "    plt.ylabel('True Positive Rate')\n",
    "    plt.title('ROC for lead score model')\n",
    "    plt.legend(loc='lower right')\n",
    "    plt.show()\n",
    "    \n",
    "    return (Youdens_0, thresholds_0, Youdens_1, thresholds_1, Youdens_2, thresholds_2)"
   ]
  },
  {
   "cell_type": "code",
   "execution_count": null,
   "metadata": {},
   "outputs": [],
   "source": [
    "x_t_xgb = xgb.DMatrix(x_t, missing= np.nan)\n",
    "x_cv_xgb = xgb.DMatrix(x_cv, missing= np.nan)"
   ]
  },
  {
   "cell_type": "code",
   "execution_count": null,
   "metadata": {},
   "outputs": [],
   "source": [
    "Youdens_0, thresholds_0, Youdens_1, thresholds_1, Youdens_2, thresholds_2 = \\\n",
    "draw_ROC(gbm, x_t_xgb, x_cv_xgb, dtest, y_t, y_cv, y_test)"
   ]
  },
  {
   "cell_type": "markdown",
   "metadata": {},
   "source": [
    "## Select Thresholds"
   ]
  },
  {
   "cell_type": "markdown",
   "metadata": {},
   "source": [
    "The best threshold of predicting default is determined based on Youden's Index. The Youden's Index optimizes the sensitivity and specificity. From the figure below, Youden's Index maximizes at a threshold of 0.18. The maximum f1-score at the threshold of 0.18 is 0.48721, with a recall rate of 0.71, suggesting that the model has 71% chance in correctly identifying the default loans. "
   ]
  },
  {
   "cell_type": "code",
   "execution_count": null,
   "metadata": {},
   "outputs": [],
   "source": [
    "plt.figure(figsize = (8,8))\n",
    "plt.plot(thresholds_0, Youdens_0, label = \"Youden's Index - Train\", color= 'r')\n",
    "plt.plot(thresholds_1, Youdens_1, label = \"Youden's Index - Validation\", color= 'b')\n",
    "plt.plot(thresholds_2, Youdens_2, label = \"Youden's Index - Test\", color= 'g')\n",
    "plt.xlabel('Thresholds')\n",
    "plt.ylabel(\"Youden's Index\")"
   ]
  },
  {
   "cell_type": "code",
   "execution_count": null,
   "metadata": {},
   "outputs": [],
   "source": [
    "best_threshold = 0.2"
   ]
  },
  {
   "cell_type": "code",
   "execution_count": null,
   "metadata": {
    "scrolled": true
   },
   "outputs": [],
   "source": [
    "from sklearn.metrics import precision_recall_fscore_support"
   ]
  },
  {
   "cell_type": "code",
   "execution_count": null,
   "metadata": {},
   "outputs": [],
   "source": [
    "for thrd in [0, 0.1, 0.15, 0.18, 0.2, 0.22, 0.4]:\n",
    "    test_results = []\n",
    "    for prob in y_pred:\n",
    "        if prob > thrd:\n",
    "            test_results.append(1)\n",
    "        else:\n",
    "            test_results.append(0)\n",
    "    print (\"threshold:\", thrd, precision_recall_fscore_support(y_test, test_results, pos_label=1, average='binary'))"
   ]
  },
  {
   "cell_type": "markdown",
   "metadata": {},
   "source": [
    "# CONCLUSION\n",
    "\n",
    "[[go back to the top]](#TABLE-OF-CONTENTS)"
   ]
  },
  {
   "cell_type": "markdown",
   "metadata": {},
   "source": [
    "This FinTech project built a program that serves as an intelligent investment consultant, which in estabishes a predictive model to evaluate the outcome of loan default rate in real-time, and feedback the prediction results to users via an interactive web-application portal. The model is built upon the historic loan data of year 2014 from the Lending Club's open resource. After data cleaning and feature engineering, model is built based on XGBoost algorithm with AUC score as model metrics. Bayesian Optimization is used to maximize the AUC score and find out the best parameters for the XGBoost model. Finally, a well-tuned predictive model is established with a AUC score of 0.73 on test sets. Feature importance plot shows several key features in predicting the default rate, such as Debt-to-Income Ratio, Annual Income, Portion of Balance, Interest Rate, and so on. "
   ]
  },
  {
   "cell_type": "code",
   "execution_count": null,
   "metadata": {},
   "outputs": [],
   "source": []
  }
 ],
 "metadata": {
  "kernelspec": {
   "display_name": "Python 2",
   "language": "python",
   "name": "python2"
  },
  "language_info": {
   "codemirror_mode": {
    "name": "ipython",
    "version": 2
   },
   "file_extension": ".py",
   "mimetype": "text/x-python",
   "name": "python",
   "nbconvert_exporter": "python",
   "pygments_lexer": "ipython2",
   "version": "2.7.14"
  }
 },
 "nbformat": 4,
 "nbformat_minor": 2
}
